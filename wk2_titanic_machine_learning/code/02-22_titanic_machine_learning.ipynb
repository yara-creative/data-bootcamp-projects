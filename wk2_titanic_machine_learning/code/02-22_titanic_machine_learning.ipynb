{
 "cells": [
  {
   "cell_type": "markdown",
   "id": "d3e0d84f",
   "metadata": {},
   "source": [
    "# Titanic Machine Learning Project"
   ]
  },
  {
   "cell_type": "code",
   "execution_count": 1,
   "id": "1155d449",
   "metadata": {},
   "outputs": [],
   "source": [
    "import pandas as pd\n",
    "import numpy as np\n",
    "import matplotlib.pyplot as plt\n",
    "import seaborn as sns\n",
    "\n",
    "from sklearn.model_selection import train_test_split, cross_val_score\n",
    "\n",
    "from sklearn.dummy import DummyClassifier\n",
    "from sklearn.linear_model import LogisticRegression\n",
    "\n",
    "from sklearn.preprocessing import StandardScaler, MinMaxScaler, RobustScaler, OneHotEncoder, KBinsDiscretizer\n",
    "from sklearn.compose import ColumnTransformer\n",
    "from sklearn.impute import SimpleImputer\n",
    "from sklearn.pipeline import make_pipeline\n",
    "\n",
    "from sklearn.tree import DecisionTreeClassifier, plot_tree\n",
    "from sklearn.ensemble import RandomForestClassifier\n",
    "\n",
    "from sklearn.metrics import accuracy_score, confusion_matrix, ConfusionMatrixDisplay"
   ]
  },
  {
   "cell_type": "code",
   "execution_count": 2,
   "id": "b94d2b79",
   "metadata": {},
   "outputs": [],
   "source": [
    "full_data = pd.read_csv('../data/train.csv')"
   ]
  },
  {
   "cell_type": "code",
   "execution_count": 3,
   "id": "f8dc37d3",
   "metadata": {
    "scrolled": true
   },
   "outputs": [
    {
     "data": {
      "text/html": [
       "<div>\n",
       "<style scoped>\n",
       "    .dataframe tbody tr th:only-of-type {\n",
       "        vertical-align: middle;\n",
       "    }\n",
       "\n",
       "    .dataframe tbody tr th {\n",
       "        vertical-align: top;\n",
       "    }\n",
       "\n",
       "    .dataframe thead th {\n",
       "        text-align: right;\n",
       "    }\n",
       "</style>\n",
       "<table border=\"1\" class=\"dataframe\">\n",
       "  <thead>\n",
       "    <tr style=\"text-align: right;\">\n",
       "      <th></th>\n",
       "      <th>PassengerId</th>\n",
       "      <th>Survived</th>\n",
       "      <th>Pclass</th>\n",
       "      <th>Name</th>\n",
       "      <th>Sex</th>\n",
       "      <th>Age</th>\n",
       "      <th>SibSp</th>\n",
       "      <th>Parch</th>\n",
       "      <th>Ticket</th>\n",
       "      <th>Fare</th>\n",
       "      <th>Cabin</th>\n",
       "      <th>Embarked</th>\n",
       "    </tr>\n",
       "  </thead>\n",
       "  <tbody>\n",
       "    <tr>\n",
       "      <th>0</th>\n",
       "      <td>1</td>\n",
       "      <td>0</td>\n",
       "      <td>3</td>\n",
       "      <td>Braund, Mr. Owen Harris</td>\n",
       "      <td>male</td>\n",
       "      <td>22.0</td>\n",
       "      <td>1</td>\n",
       "      <td>0</td>\n",
       "      <td>A/5 21171</td>\n",
       "      <td>7.2500</td>\n",
       "      <td>NaN</td>\n",
       "      <td>S</td>\n",
       "    </tr>\n",
       "    <tr>\n",
       "      <th>1</th>\n",
       "      <td>2</td>\n",
       "      <td>1</td>\n",
       "      <td>1</td>\n",
       "      <td>Cumings, Mrs. John Bradley (Florence Briggs Th...</td>\n",
       "      <td>female</td>\n",
       "      <td>38.0</td>\n",
       "      <td>1</td>\n",
       "      <td>0</td>\n",
       "      <td>PC 17599</td>\n",
       "      <td>71.2833</td>\n",
       "      <td>C85</td>\n",
       "      <td>C</td>\n",
       "    </tr>\n",
       "    <tr>\n",
       "      <th>2</th>\n",
       "      <td>3</td>\n",
       "      <td>1</td>\n",
       "      <td>3</td>\n",
       "      <td>Heikkinen, Miss. Laina</td>\n",
       "      <td>female</td>\n",
       "      <td>26.0</td>\n",
       "      <td>0</td>\n",
       "      <td>0</td>\n",
       "      <td>STON/O2. 3101282</td>\n",
       "      <td>7.9250</td>\n",
       "      <td>NaN</td>\n",
       "      <td>S</td>\n",
       "    </tr>\n",
       "  </tbody>\n",
       "</table>\n",
       "</div>"
      ],
      "text/plain": [
       "   PassengerId  Survived  Pclass  \\\n",
       "0            1         0       3   \n",
       "1            2         1       1   \n",
       "2            3         1       3   \n",
       "\n",
       "                                                Name     Sex   Age  SibSp  \\\n",
       "0                            Braund, Mr. Owen Harris    male  22.0      1   \n",
       "1  Cumings, Mrs. John Bradley (Florence Briggs Th...  female  38.0      1   \n",
       "2                             Heikkinen, Miss. Laina  female  26.0      0   \n",
       "\n",
       "   Parch            Ticket     Fare Cabin Embarked  \n",
       "0      0         A/5 21171   7.2500   NaN        S  \n",
       "1      0          PC 17599  71.2833   C85        C  \n",
       "2      0  STON/O2. 3101282   7.9250   NaN        S  "
      ]
     },
     "execution_count": 3,
     "metadata": {},
     "output_type": "execute_result"
    }
   ],
   "source": [
    "full_data.head(3)"
   ]
  },
  {
   "cell_type": "markdown",
   "id": "4cfed17b",
   "metadata": {},
   "source": [
    "### Splitting data into sets for training and testing"
   ]
  },
  {
   "cell_type": "code",
   "execution_count": 4,
   "id": "60cc5b88",
   "metadata": {},
   "outputs": [],
   "source": [
    "X = full_data.drop(['Survived'], axis=1)\n",
    "y = full_data['Survived']"
   ]
  },
  {
   "cell_type": "code",
   "execution_count": 5,
   "id": "d7d3ac30",
   "metadata": {},
   "outputs": [],
   "source": [
    "X_train, X_test, y_train, y_test = train_test_split(X, y, test_size=0.2, random_state=10)"
   ]
  },
  {
   "cell_type": "code",
   "execution_count": 6,
   "id": "46de8fd6",
   "metadata": {},
   "outputs": [
    {
     "data": {
      "text/plain": [
       "((712, 11), (712,), (179, 11), (179,))"
      ]
     },
     "execution_count": 6,
     "metadata": {},
     "output_type": "execute_result"
    }
   ],
   "source": [
    "X_train.shape, y_train.shape, X_test.shape, y_test.shape"
   ]
  },
  {
   "cell_type": "code",
   "execution_count": 7,
   "id": "6b804007",
   "metadata": {},
   "outputs": [
    {
     "data": {
      "text/html": [
       "<div>\n",
       "<style scoped>\n",
       "    .dataframe tbody tr th:only-of-type {\n",
       "        vertical-align: middle;\n",
       "    }\n",
       "\n",
       "    .dataframe tbody tr th {\n",
       "        vertical-align: top;\n",
       "    }\n",
       "\n",
       "    .dataframe thead th {\n",
       "        text-align: right;\n",
       "    }\n",
       "</style>\n",
       "<table border=\"1\" class=\"dataframe\">\n",
       "  <thead>\n",
       "    <tr style=\"text-align: right;\">\n",
       "      <th></th>\n",
       "      <th>PassengerId</th>\n",
       "      <th>Pclass</th>\n",
       "      <th>Name</th>\n",
       "      <th>Sex</th>\n",
       "      <th>Age</th>\n",
       "      <th>SibSp</th>\n",
       "      <th>Parch</th>\n",
       "      <th>Ticket</th>\n",
       "      <th>Fare</th>\n",
       "      <th>Cabin</th>\n",
       "      <th>Embarked</th>\n",
       "    </tr>\n",
       "  </thead>\n",
       "  <tbody>\n",
       "    <tr>\n",
       "      <th>57</th>\n",
       "      <td>58</td>\n",
       "      <td>3</td>\n",
       "      <td>Novel, Mr. Mansouer</td>\n",
       "      <td>male</td>\n",
       "      <td>28.5</td>\n",
       "      <td>0</td>\n",
       "      <td>0</td>\n",
       "      <td>2697</td>\n",
       "      <td>7.2292</td>\n",
       "      <td>NaN</td>\n",
       "      <td>C</td>\n",
       "    </tr>\n",
       "    <tr>\n",
       "      <th>717</th>\n",
       "      <td>718</td>\n",
       "      <td>2</td>\n",
       "      <td>Troutt, Miss. Edwina Celia \"Winnie\"</td>\n",
       "      <td>female</td>\n",
       "      <td>27.0</td>\n",
       "      <td>0</td>\n",
       "      <td>0</td>\n",
       "      <td>34218</td>\n",
       "      <td>10.5000</td>\n",
       "      <td>E101</td>\n",
       "      <td>S</td>\n",
       "    </tr>\n",
       "    <tr>\n",
       "      <th>431</th>\n",
       "      <td>432</td>\n",
       "      <td>3</td>\n",
       "      <td>Thorneycroft, Mrs. Percival (Florence Kate White)</td>\n",
       "      <td>female</td>\n",
       "      <td>NaN</td>\n",
       "      <td>1</td>\n",
       "      <td>0</td>\n",
       "      <td>376564</td>\n",
       "      <td>16.1000</td>\n",
       "      <td>NaN</td>\n",
       "      <td>S</td>\n",
       "    </tr>\n",
       "  </tbody>\n",
       "</table>\n",
       "</div>"
      ],
      "text/plain": [
       "     PassengerId  Pclass                                               Name  \\\n",
       "57            58       3                                Novel, Mr. Mansouer   \n",
       "717          718       2                Troutt, Miss. Edwina Celia \"Winnie\"   \n",
       "431          432       3  Thorneycroft, Mrs. Percival (Florence Kate White)   \n",
       "\n",
       "        Sex   Age  SibSp  Parch  Ticket     Fare Cabin Embarked  \n",
       "57     male  28.5      0      0    2697   7.2292   NaN        C  \n",
       "717  female  27.0      0      0   34218  10.5000  E101        S  \n",
       "431  female   NaN      1      0  376564  16.1000   NaN        S  "
      ]
     },
     "execution_count": 7,
     "metadata": {},
     "output_type": "execute_result"
    }
   ],
   "source": [
    "X_train.head(3)"
   ]
  },
  {
   "cell_type": "code",
   "execution_count": 8,
   "id": "c70699d6",
   "metadata": {},
   "outputs": [],
   "source": [
    "#df = df.reset_index()"
   ]
  },
  {
   "cell_type": "markdown",
   "id": "92c5f10f",
   "metadata": {},
   "source": [
    "### Exploring data"
   ]
  },
  {
   "cell_type": "code",
   "execution_count": 9,
   "id": "41e1c0f4",
   "metadata": {},
   "outputs": [],
   "source": [
    "df = pd.concat([X_train, y_train], axis=1)"
   ]
  },
  {
   "cell_type": "code",
   "execution_count": 10,
   "id": "ad1f9290",
   "metadata": {},
   "outputs": [
    {
     "data": {
      "text/html": [
       "<div>\n",
       "<style scoped>\n",
       "    .dataframe tbody tr th:only-of-type {\n",
       "        vertical-align: middle;\n",
       "    }\n",
       "\n",
       "    .dataframe tbody tr th {\n",
       "        vertical-align: top;\n",
       "    }\n",
       "\n",
       "    .dataframe thead th {\n",
       "        text-align: right;\n",
       "    }\n",
       "</style>\n",
       "<table border=\"1\" class=\"dataframe\">\n",
       "  <thead>\n",
       "    <tr style=\"text-align: right;\">\n",
       "      <th></th>\n",
       "      <th>PassengerId</th>\n",
       "      <th>Pclass</th>\n",
       "      <th>Name</th>\n",
       "      <th>Sex</th>\n",
       "      <th>Age</th>\n",
       "      <th>SibSp</th>\n",
       "      <th>Parch</th>\n",
       "      <th>Ticket</th>\n",
       "      <th>Fare</th>\n",
       "      <th>Cabin</th>\n",
       "      <th>Embarked</th>\n",
       "      <th>Survived</th>\n",
       "    </tr>\n",
       "  </thead>\n",
       "  <tbody>\n",
       "    <tr>\n",
       "      <th>57</th>\n",
       "      <td>58</td>\n",
       "      <td>3</td>\n",
       "      <td>Novel, Mr. Mansouer</td>\n",
       "      <td>male</td>\n",
       "      <td>28.5</td>\n",
       "      <td>0</td>\n",
       "      <td>0</td>\n",
       "      <td>2697</td>\n",
       "      <td>7.2292</td>\n",
       "      <td>NaN</td>\n",
       "      <td>C</td>\n",
       "      <td>0</td>\n",
       "    </tr>\n",
       "    <tr>\n",
       "      <th>717</th>\n",
       "      <td>718</td>\n",
       "      <td>2</td>\n",
       "      <td>Troutt, Miss. Edwina Celia \"Winnie\"</td>\n",
       "      <td>female</td>\n",
       "      <td>27.0</td>\n",
       "      <td>0</td>\n",
       "      <td>0</td>\n",
       "      <td>34218</td>\n",
       "      <td>10.5000</td>\n",
       "      <td>E101</td>\n",
       "      <td>S</td>\n",
       "      <td>1</td>\n",
       "    </tr>\n",
       "  </tbody>\n",
       "</table>\n",
       "</div>"
      ],
      "text/plain": [
       "     PassengerId  Pclass                                 Name     Sex   Age  \\\n",
       "57            58       3                  Novel, Mr. Mansouer    male  28.5   \n",
       "717          718       2  Troutt, Miss. Edwina Celia \"Winnie\"  female  27.0   \n",
       "\n",
       "     SibSp  Parch Ticket     Fare Cabin Embarked  Survived  \n",
       "57       0      0   2697   7.2292   NaN        C         0  \n",
       "717      0      0  34218  10.5000  E101        S         1  "
      ]
     },
     "execution_count": 10,
     "metadata": {},
     "output_type": "execute_result"
    }
   ],
   "source": [
    "df.head(2)"
   ]
  },
  {
   "cell_type": "code",
   "execution_count": 11,
   "id": "99cc9134",
   "metadata": {},
   "outputs": [
    {
     "data": {
      "text/plain": [
       "(64, 12)"
      ]
     },
     "execution_count": 11,
     "metadata": {},
     "output_type": "execute_result"
    }
   ],
   "source": [
    "survived_1st = df.loc[(df['Pclass'] == 1) & (df['Survived'] == 0)]\n",
    "survived_1st.shape"
   ]
  },
  {
   "cell_type": "code",
   "execution_count": 12,
   "id": "165ca068",
   "metadata": {},
   "outputs": [
    {
     "data": {
      "text/plain": [
       "(170, 12)"
      ]
     },
     "execution_count": 12,
     "metadata": {},
     "output_type": "execute_result"
    }
   ],
   "source": [
    "all_1st = df.loc[df['Pclass'] == 1]\n",
    "all_1st.shape"
   ]
  },
  {
   "cell_type": "code",
   "execution_count": 13,
   "id": "fd5063ff",
   "metadata": {},
   "outputs": [
    {
     "data": {
      "text/plain": [
       "37.03703703703704"
      ]
     },
     "execution_count": 13,
     "metadata": {},
     "output_type": "execute_result"
    }
   ],
   "source": [
    "# Percentage of surviving 1st class passengers out of total number of 1st class passengers\n",
    "80 / 216 * 100"
   ]
  },
  {
   "cell_type": "code",
   "execution_count": 14,
   "id": "ffa4cbb3",
   "metadata": {},
   "outputs": [
    {
     "data": {
      "text/plain": [
       "<AxesSubplot:xlabel='Pclass', ylabel='count'>"
      ]
     },
     "execution_count": 14,
     "metadata": {},
     "output_type": "execute_result"
    },
    {
     "data": {
      "image/png": "[encoded data removed]",
      "text/plain": [
       "<Figure size 432x288 with 1 Axes>"
      ]
     },
     "metadata": {
      "needs_background": "light"
     },
     "output_type": "display_data"
    }
   ],
   "source": [
    "sns.countplot(x='Pclass', hue='Sex', alpha=0.7, data=df)"
   ]
  },
  {
   "cell_type": "code",
   "execution_count": 15,
   "id": "3b2fd327",
   "metadata": {},
   "outputs": [
    {
     "data": {
      "text/plain": [
       "<matplotlib.legend.Legend at 0x7f801bb8d5e0>"
      ]
     },
     "execution_count": 15,
     "metadata": {},
     "output_type": "execute_result"
    },
    {
     "data": {
      "image/png": "[encoded data removed]",
      "text/plain": [
       "<Figure size 432x288 with 1 Axes>"
      ]
     },
     "metadata": {
      "needs_background": "light"
     },
     "output_type": "display_data"
    }
   ],
   "source": [
    "df['Age'].loc[df['Survived'] == 0].plot.hist(alpha=0.7, label='Died')\n",
    "df['Age'].loc[df['Survived'] == 1].plot.hist(alpha=0.7, label='Survived')\n",
    "plt.legend()"
   ]
  },
  {
   "cell_type": "markdown",
   "id": "55010347",
   "metadata": {},
   "source": [
    "### Cleaning NaN values"
   ]
  },
  {
   "cell_type": "code",
   "execution_count": 16,
   "id": "cc4217f1",
   "metadata": {
    "scrolled": true
   },
   "outputs": [
    {
     "data": {
      "text/plain": [
       "PassengerId      0\n",
       "Pclass           0\n",
       "Name             0\n",
       "Sex              0\n",
       "Age            135\n",
       "SibSp            0\n",
       "Parch            0\n",
       "Ticket           0\n",
       "Fare             0\n",
       "Cabin          554\n",
       "Embarked         2\n",
       "Survived         0\n",
       "dtype: int64"
      ]
     },
     "execution_count": 16,
     "metadata": {},
     "output_type": "execute_result"
    }
   ],
   "source": [
    "df.isna().sum()"
   ]
  },
  {
   "cell_type": "code",
   "execution_count": 17,
   "id": "ff781b6f",
   "metadata": {},
   "outputs": [
    {
     "data": {
      "text/plain": [
       "<AxesSubplot:>"
      ]
     },
     "execution_count": 17,
     "metadata": {},
     "output_type": "execute_result"
    },
    {
     "data": {
      "image/png": "[encoded data removed]",
      "text/plain": [
       "<Figure size 432x288 with 2 Axes>"
      ]
     },
     "metadata": {
      "needs_background": "light"
     },
     "output_type": "display_data"
    }
   ],
   "source": [
    "sns.heatmap(df.isna())"
   ]
  },
  {
   "cell_type": "markdown",
   "id": "f2d489bf",
   "metadata": {},
   "source": [
    "Fill 'Embarked' missing values with most frequent port for the 'Pclass' and 'Fare' range."
   ]
  },
  {
   "cell_type": "code",
   "execution_count": 18,
   "id": "0ceadf0c",
   "metadata": {},
   "outputs": [
    {
     "data": {
      "text/plain": [
       "S    523\n",
       "C    128\n",
       "Q     59\n",
       "Name: Embarked, dtype: int64"
      ]
     },
     "execution_count": 18,
     "metadata": {},
     "output_type": "execute_result"
    }
   ],
   "source": [
    "df['Embarked'].value_counts()"
   ]
  },
  {
   "cell_type": "code",
   "execution_count": 19,
   "id": "bc38e71a",
   "metadata": {},
   "outputs": [
    {
     "data": {
      "text/html": [
       "<div>\n",
       "<style scoped>\n",
       "    .dataframe tbody tr th:only-of-type {\n",
       "        vertical-align: middle;\n",
       "    }\n",
       "\n",
       "    .dataframe tbody tr th {\n",
       "        vertical-align: top;\n",
       "    }\n",
       "\n",
       "    .dataframe thead th {\n",
       "        text-align: right;\n",
       "    }\n",
       "</style>\n",
       "<table border=\"1\" class=\"dataframe\">\n",
       "  <thead>\n",
       "    <tr style=\"text-align: right;\">\n",
       "      <th></th>\n",
       "      <th>PassengerId</th>\n",
       "      <th>Pclass</th>\n",
       "      <th>Name</th>\n",
       "      <th>Sex</th>\n",
       "      <th>Age</th>\n",
       "      <th>SibSp</th>\n",
       "      <th>Parch</th>\n",
       "      <th>Ticket</th>\n",
       "      <th>Fare</th>\n",
       "      <th>Cabin</th>\n",
       "      <th>Embarked</th>\n",
       "      <th>Survived</th>\n",
       "    </tr>\n",
       "  </thead>\n",
       "  <tbody>\n",
       "    <tr>\n",
       "      <th>61</th>\n",
       "      <td>62</td>\n",
       "      <td>1</td>\n",
       "      <td>Icard, Miss. Amelie</td>\n",
       "      <td>female</td>\n",
       "      <td>38.0</td>\n",
       "      <td>0</td>\n",
       "      <td>0</td>\n",
       "      <td>113572</td>\n",
       "      <td>80.0</td>\n",
       "      <td>B28</td>\n",
       "      <td>NaN</td>\n",
       "      <td>1</td>\n",
       "    </tr>\n",
       "    <tr>\n",
       "      <th>829</th>\n",
       "      <td>830</td>\n",
       "      <td>1</td>\n",
       "      <td>Stone, Mrs. George Nelson (Martha Evelyn)</td>\n",
       "      <td>female</td>\n",
       "      <td>62.0</td>\n",
       "      <td>0</td>\n",
       "      <td>0</td>\n",
       "      <td>113572</td>\n",
       "      <td>80.0</td>\n",
       "      <td>B28</td>\n",
       "      <td>NaN</td>\n",
       "      <td>1</td>\n",
       "    </tr>\n",
       "  </tbody>\n",
       "</table>\n",
       "</div>"
      ],
      "text/plain": [
       "     PassengerId  Pclass                                       Name     Sex  \\\n",
       "61            62       1                        Icard, Miss. Amelie  female   \n",
       "829          830       1  Stone, Mrs. George Nelson (Martha Evelyn)  female   \n",
       "\n",
       "      Age  SibSp  Parch  Ticket  Fare Cabin Embarked  Survived  \n",
       "61   38.0      0      0  113572  80.0   B28      NaN         1  \n",
       "829  62.0      0      0  113572  80.0   B28      NaN         1  "
      ]
     },
     "execution_count": 19,
     "metadata": {},
     "output_type": "execute_result"
    }
   ],
   "source": [
    "df.loc[df['Embarked'].isna()]\n",
    "#Dot notation alternative: df[df.Embarked.isna()]"
   ]
  },
  {
   "cell_type": "markdown",
   "id": "bc461a37",
   "metadata": {},
   "source": [
    "Relevant commonalities between rows to fill in Embarked values: Pclass = 1, Fare = 80.0"
   ]
  },
  {
   "cell_type": "code",
   "execution_count": 20,
   "id": "828c5b83",
   "metadata": {},
   "outputs": [
    {
     "data": {
      "text/plain": [
       "C    42\n",
       "S    41\n",
       "Q     2\n",
       "Name: Embarked, dtype: int64"
      ]
     },
     "execution_count": 20,
     "metadata": {},
     "output_type": "execute_result"
    }
   ],
   "source": [
    "# Exploration of people in first class who paid more than 60 fare (to give a range before 80 of the 2 missing passengers) and where they embarked \n",
    "pclass_fare = df[(df['Pclass'] == 1) & (df['Fare'] >= 60)]\n",
    "pclass_fare['Embarked'].value_counts()"
   ]
  },
  {
   "cell_type": "code",
   "execution_count": 21,
   "id": "e832b4b4",
   "metadata": {},
   "outputs": [],
   "source": [
    "df['Embarked'].fillna('C', inplace=True)"
   ]
  },
  {
   "cell_type": "code",
   "execution_count": 22,
   "id": "975fa034",
   "metadata": {},
   "outputs": [
    {
     "data": {
      "text/plain": [
       "PassengerId      0\n",
       "Pclass           0\n",
       "Name             0\n",
       "Sex              0\n",
       "Age            135\n",
       "SibSp            0\n",
       "Parch            0\n",
       "Ticket           0\n",
       "Fare             0\n",
       "Cabin          554\n",
       "Embarked         0\n",
       "Survived         0\n",
       "dtype: int64"
      ]
     },
     "execution_count": 22,
     "metadata": {},
     "output_type": "execute_result"
    }
   ],
   "source": [
    "df.isna().sum()"
   ]
  },
  {
   "cell_type": "markdown",
   "id": "bef3f570",
   "metadata": {},
   "source": [
    "Check mean Age based on survival."
   ]
  },
  {
   "cell_type": "code",
   "execution_count": 161,
   "id": "f95af2ee",
   "metadata": {},
   "outputs": [
    {
     "data": {
      "text/plain": [
       "28.78828571428571"
      ]
     },
     "execution_count": 161,
     "metadata": {},
     "output_type": "execute_result"
    }
   ],
   "source": [
    "survived = df.loc[df['Survived'] == 1]\n",
    "survived['Age'].mean()"
   ]
  },
  {
   "cell_type": "code",
   "execution_count": 162,
   "id": "8db34854",
   "metadata": {},
   "outputs": [
    {
     "data": {
      "text/plain": [
       "30.281851851851908"
      ]
     },
     "execution_count": 162,
     "metadata": {},
     "output_type": "execute_result"
    }
   ],
   "source": [
    "died = df.loc[df['Survived'] == 0]\n",
    "died['Age'].mean()"
   ]
  },
  {
   "cell_type": "markdown",
   "id": "97fc55d7",
   "metadata": {},
   "source": [
    "Fill 'Age' missing values with mean Age.\n",
    "\n",
    "In new column, split ages according to child or adult. At the time in 1912, boys would have been considered men on the boat (some crew were apparently thi age) at roughly 13 years old. So 13+ will be considered adult here. This is important since women and children were prioritized in boarding lifeboats."
   ]
  },
  {
   "cell_type": "code",
   "execution_count": 155,
   "id": "3ddf0aab",
   "metadata": {},
   "outputs": [
    {
     "data": {
      "text/plain": [
       "29.694494382022487"
      ]
     },
     "execution_count": 155,
     "metadata": {},
     "output_type": "execute_result"
    }
   ],
   "source": [
    "df['Age'].mean()"
   ]
  },
  {
   "cell_type": "code",
   "execution_count": 156,
   "id": "97851b8e",
   "metadata": {},
   "outputs": [],
   "source": [
    "df['Age'] = df['Age'].fillna(29.69)"
   ]
  },
  {
   "cell_type": "code",
   "execution_count": 157,
   "id": "1b1f496a",
   "metadata": {},
   "outputs": [
    {
     "data": {
      "text/plain": [
       "Age  \n",
       "30.28    92\n",
       "28.79    43\n",
       "24.00    25\n",
       "22.00    24\n",
       "30.00    22\n",
       "         ..\n",
       "20.50     1\n",
       "14.50     1\n",
       "12.00     1\n",
       "10.00     1\n",
       "80.00     1\n",
       "Length: 85, dtype: int64"
      ]
     },
     "execution_count": 157,
     "metadata": {},
     "output_type": "execute_result"
    }
   ],
   "source": [
    "df[['Age']].value_counts()"
   ]
  },
  {
   "cell_type": "code",
   "execution_count": 158,
   "id": "010374cd",
   "metadata": {},
   "outputs": [
    {
     "data": {
      "text/plain": [
       "PassengerId       0\n",
       "Pclass            0\n",
       "Name              0\n",
       "Sex               0\n",
       "Age               0\n",
       "SibSp             0\n",
       "Parch             0\n",
       "Ticket            0\n",
       "Fare              0\n",
       "Cabin           554\n",
       "Embarked          0\n",
       "Survived          0\n",
       "Cabin Letter      0\n",
       "dtype: int64"
      ]
     },
     "execution_count": 158,
     "metadata": {},
     "output_type": "execute_result"
    }
   ],
   "source": [
    "df.isna().sum()"
   ]
  },
  {
   "cell_type": "code",
   "execution_count": 159,
   "id": "0ca0e5ec",
   "metadata": {},
   "outputs": [
    {
     "data": {
      "text/html": [
       "<div>\n",
       "<style scoped>\n",
       "    .dataframe tbody tr th:only-of-type {\n",
       "        vertical-align: middle;\n",
       "    }\n",
       "\n",
       "    .dataframe tbody tr th {\n",
       "        vertical-align: top;\n",
       "    }\n",
       "\n",
       "    .dataframe thead th {\n",
       "        text-align: right;\n",
       "    }\n",
       "</style>\n",
       "<table border=\"1\" class=\"dataframe\">\n",
       "  <thead>\n",
       "    <tr style=\"text-align: right;\">\n",
       "      <th></th>\n",
       "      <th>PassengerId</th>\n",
       "      <th>Pclass</th>\n",
       "      <th>Name</th>\n",
       "      <th>Sex</th>\n",
       "      <th>Age</th>\n",
       "      <th>SibSp</th>\n",
       "      <th>Parch</th>\n",
       "      <th>Ticket</th>\n",
       "      <th>Fare</th>\n",
       "      <th>Cabin</th>\n",
       "      <th>Embarked</th>\n",
       "      <th>Survived</th>\n",
       "      <th>Cabin Letter</th>\n",
       "    </tr>\n",
       "  </thead>\n",
       "  <tbody>\n",
       "    <tr>\n",
       "      <th>57</th>\n",
       "      <td>58</td>\n",
       "      <td>3</td>\n",
       "      <td>Novel, Mr. Mansouer</td>\n",
       "      <td>male</td>\n",
       "      <td>28.5</td>\n",
       "      <td>0</td>\n",
       "      <td>0</td>\n",
       "      <td>2697</td>\n",
       "      <td>7.2292</td>\n",
       "      <td>NaN</td>\n",
       "      <td>C</td>\n",
       "      <td>0</td>\n",
       "      <td>G</td>\n",
       "    </tr>\n",
       "    <tr>\n",
       "      <th>717</th>\n",
       "      <td>718</td>\n",
       "      <td>2</td>\n",
       "      <td>Troutt, Miss. Edwina Celia \"Winnie\"</td>\n",
       "      <td>female</td>\n",
       "      <td>27.0</td>\n",
       "      <td>0</td>\n",
       "      <td>0</td>\n",
       "      <td>34218</td>\n",
       "      <td>10.5000</td>\n",
       "      <td>E101</td>\n",
       "      <td>S</td>\n",
       "      <td>1</td>\n",
       "      <td>E</td>\n",
       "    </tr>\n",
       "  </tbody>\n",
       "</table>\n",
       "</div>"
      ],
      "text/plain": [
       "     PassengerId  Pclass                                 Name     Sex   Age  \\\n",
       "57            58       3                  Novel, Mr. Mansouer    male  28.5   \n",
       "717          718       2  Troutt, Miss. Edwina Celia \"Winnie\"  female  27.0   \n",
       "\n",
       "     SibSp  Parch Ticket     Fare Cabin Embarked  Survived Cabin Letter  \n",
       "57       0      0   2697   7.2292   NaN        C         0            G  \n",
       "717      0      0  34218  10.5000  E101        S         1            E  "
      ]
     },
     "execution_count": 159,
     "metadata": {},
     "output_type": "execute_result"
    }
   ],
   "source": [
    "df.head(2)"
   ]
  },
  {
   "cell_type": "markdown",
   "id": "2c3fbb98",
   "metadata": {},
   "source": [
    "Create a table counting the number of surviving/dead passengers separately for 1st/2nd/3rd class and male/female."
   ]
  },
  {
   "cell_type": "code",
   "execution_count": 160,
   "id": "9dd966b5",
   "metadata": {},
   "outputs": [
    {
     "data": {
      "text/html": [
       "<div>\n",
       "<style scoped>\n",
       "    .dataframe tbody tr th:only-of-type {\n",
       "        vertical-align: middle;\n",
       "    }\n",
       "\n",
       "    .dataframe tbody tr th {\n",
       "        vertical-align: top;\n",
       "    }\n",
       "\n",
       "    .dataframe thead th {\n",
       "        text-align: right;\n",
       "    }\n",
       "</style>\n",
       "<table border=\"1\" class=\"dataframe\">\n",
       "  <thead>\n",
       "    <tr style=\"text-align: right;\">\n",
       "      <th></th>\n",
       "      <th>female</th>\n",
       "      <th>male</th>\n",
       "      <th>1</th>\n",
       "      <th>2</th>\n",
       "      <th>3</th>\n",
       "    </tr>\n",
       "    <tr>\n",
       "      <th>Survived</th>\n",
       "      <th></th>\n",
       "      <th></th>\n",
       "      <th></th>\n",
       "      <th></th>\n",
       "      <th></th>\n",
       "    </tr>\n",
       "  </thead>\n",
       "  <tbody>\n",
       "    <tr>\n",
       "      <th>0</th>\n",
       "      <td>68</td>\n",
       "      <td>364</td>\n",
       "      <td>64</td>\n",
       "      <td>76</td>\n",
       "      <td>292</td>\n",
       "    </tr>\n",
       "    <tr>\n",
       "      <th>1</th>\n",
       "      <td>190</td>\n",
       "      <td>90</td>\n",
       "      <td>106</td>\n",
       "      <td>73</td>\n",
       "      <td>101</td>\n",
       "    </tr>\n",
       "  </tbody>\n",
       "</table>\n",
       "</div>"
      ],
      "text/plain": [
       "          female  male    1   2    3\n",
       "Survived                            \n",
       "0             68   364   64  76  292\n",
       "1            190    90  106  73  101"
      ]
     },
     "execution_count": 160,
     "metadata": {},
     "output_type": "execute_result"
    }
   ],
   "source": [
    "survival_sex = pd.crosstab(index = df['Survived'], columns = df['Sex'])\n",
    "survival_sex = survival_sex.reset_index()\n",
    "survival_pclass = pd.crosstab(index = df['Survived'], columns = df['Pclass'])\n",
    "survival_pclass = survival_pclass.reset_index()\n",
    "survival_counts = survival_sex.merge(survival_pclass, how='outer')\n",
    "survival_counts = survival_counts.set_index('Survived')\n",
    "survival_counts"
   ]
  },
  {
   "cell_type": "code",
   "execution_count": 31,
   "id": "01fa309d",
   "metadata": {},
   "outputs": [],
   "source": [
    "#survival_pclass = df.groupby('Survived')['Pclass']\n",
    "#survival_pclass.value_counts()"
   ]
  },
  {
   "cell_type": "code",
   "execution_count": 32,
   "id": "954b445e",
   "metadata": {},
   "outputs": [],
   "source": [
    "#survival_sex = df.groupby('Survived')['Sex']\n",
    "#survival_sex.value_counts()"
   ]
  },
  {
   "cell_type": "markdown",
   "id": "294b8b5b",
   "metadata": {},
   "source": [
    "### Baseline model"
   ]
  },
  {
   "cell_type": "code",
   "execution_count": 33,
   "id": "73e90889",
   "metadata": {},
   "outputs": [
    {
     "data": {
      "text/plain": [
       "0.6067415730337079"
      ]
     },
     "execution_count": 33,
     "metadata": {},
     "output_type": "execute_result"
    }
   ],
   "source": [
    "m_base = DummyClassifier(strategy='most_frequent')\n",
    "# Also tried strategy='stratified' - m.score was 0.5379\n",
    "m_base.fit(X_train, y_train)\n",
    "y_train_pred = m_base.predict(X_train)\n",
    "m_base.score(X_train, y_train)"
   ]
  },
  {
   "cell_type": "code",
   "execution_count": 34,
   "id": "9dbf23b4",
   "metadata": {},
   "outputs": [
    {
     "data": {
      "text/plain": [
       "0.6536312849162011"
      ]
     },
     "execution_count": 34,
     "metadata": {},
     "output_type": "execute_result"
    }
   ],
   "source": [
    "m_base.score(X_test, y_test)"
   ]
  },
  {
   "cell_type": "markdown",
   "id": "0dd31a93",
   "metadata": {},
   "source": [
    "### Logistic Regression model"
   ]
  },
  {
   "cell_type": "code",
   "execution_count": 35,
   "id": "be86b4d8",
   "metadata": {},
   "outputs": [],
   "source": [
    "X = full_data[['Pclass']] #independent variables\n",
    "y = full_data['Survived'] #target variable"
   ]
  },
  {
   "cell_type": "code",
   "execution_count": 36,
   "id": "9d9f229d",
   "metadata": {},
   "outputs": [],
   "source": [
    "X_train, X_test, y_train, y_test = train_test_split(X, y, test_size=0.2, random_state=10)"
   ]
  },
  {
   "cell_type": "code",
   "execution_count": 37,
   "id": "82d16115",
   "metadata": {
    "scrolled": true
   },
   "outputs": [
    {
     "data": {
      "text/plain": [
       "0.6657303370786517"
      ]
     },
     "execution_count": 37,
     "metadata": {},
     "output_type": "execute_result"
    }
   ],
   "source": [
    "m_reg = LogisticRegression()\n",
    "m_reg.fit(X_train, y_train)\n",
    "m_reg.score(X_train, y_train)"
   ]
  },
  {
   "cell_type": "code",
   "execution_count": 38,
   "id": "87f28f42",
   "metadata": {},
   "outputs": [
    {
     "data": {
      "text/plain": [
       "0.7318435754189944"
      ]
     },
     "execution_count": 38,
     "metadata": {},
     "output_type": "execute_result"
    }
   ],
   "source": [
    "m_reg.score(X_test, y_test)"
   ]
  },
  {
   "cell_type": "code",
   "execution_count": 39,
   "id": "d8f5001a",
   "metadata": {},
   "outputs": [
    {
     "data": {
      "text/plain": [
       "(array([1.37307183]), array([[-0.79538448]]))"
      ]
     },
     "execution_count": 39,
     "metadata": {},
     "output_type": "execute_result"
    }
   ],
   "source": [
    "m_reg.intercept_, m_reg.coef_"
   ]
  },
  {
   "cell_type": "markdown",
   "id": "45112505",
   "metadata": {},
   "source": [
    "Classify all points with a probability > 0.9 as positive."
   ]
  },
  {
   "cell_type": "code",
   "execution_count": 40,
   "id": "e8b44a4a",
   "metadata": {},
   "outputs": [
    {
     "data": {
      "text/html": [
       "<div>\n",
       "<style scoped>\n",
       "    .dataframe tbody tr th:only-of-type {\n",
       "        vertical-align: middle;\n",
       "    }\n",
       "\n",
       "    .dataframe tbody tr th {\n",
       "        vertical-align: top;\n",
       "    }\n",
       "\n",
       "    .dataframe thead th {\n",
       "        text-align: right;\n",
       "    }\n",
       "</style>\n",
       "<table border=\"1\" class=\"dataframe\">\n",
       "  <thead>\n",
       "    <tr style=\"text-align: right;\">\n",
       "      <th></th>\n",
       "      <th>0</th>\n",
       "      <th>1</th>\n",
       "    </tr>\n",
       "  </thead>\n",
       "  <tbody>\n",
       "    <tr>\n",
       "      <th>0</th>\n",
       "      <td>0.73</td>\n",
       "      <td>0.27</td>\n",
       "    </tr>\n",
       "    <tr>\n",
       "      <th>1</th>\n",
       "      <td>0.55</td>\n",
       "      <td>0.45</td>\n",
       "    </tr>\n",
       "    <tr>\n",
       "      <th>2</th>\n",
       "      <td>0.73</td>\n",
       "      <td>0.27</td>\n",
       "    </tr>\n",
       "    <tr>\n",
       "      <th>3</th>\n",
       "      <td>0.36</td>\n",
       "      <td>0.64</td>\n",
       "    </tr>\n",
       "    <tr>\n",
       "      <th>4</th>\n",
       "      <td>0.73</td>\n",
       "      <td>0.27</td>\n",
       "    </tr>\n",
       "    <tr>\n",
       "      <th>...</th>\n",
       "      <td>...</td>\n",
       "      <td>...</td>\n",
       "    </tr>\n",
       "    <tr>\n",
       "      <th>707</th>\n",
       "      <td>0.36</td>\n",
       "      <td>0.64</td>\n",
       "    </tr>\n",
       "    <tr>\n",
       "      <th>708</th>\n",
       "      <td>0.73</td>\n",
       "      <td>0.27</td>\n",
       "    </tr>\n",
       "    <tr>\n",
       "      <th>709</th>\n",
       "      <td>0.36</td>\n",
       "      <td>0.64</td>\n",
       "    </tr>\n",
       "    <tr>\n",
       "      <th>710</th>\n",
       "      <td>0.73</td>\n",
       "      <td>0.27</td>\n",
       "    </tr>\n",
       "    <tr>\n",
       "      <th>711</th>\n",
       "      <td>0.55</td>\n",
       "      <td>0.45</td>\n",
       "    </tr>\n",
       "  </tbody>\n",
       "</table>\n",
       "<p>712 rows × 2 columns</p>\n",
       "</div>"
      ],
      "text/plain": [
       "        0     1\n",
       "0    0.73  0.27\n",
       "1    0.55  0.45\n",
       "2    0.73  0.27\n",
       "3    0.36  0.64\n",
       "4    0.73  0.27\n",
       "..    ...   ...\n",
       "707  0.36  0.64\n",
       "708  0.73  0.27\n",
       "709  0.36  0.64\n",
       "710  0.73  0.27\n",
       "711  0.55  0.45\n",
       "\n",
       "[712 rows x 2 columns]"
      ]
     },
     "execution_count": 40,
     "metadata": {},
     "output_type": "execute_result"
    }
   ],
   "source": [
    "probabilities = pd.DataFrame(m_reg.predict_proba(X_train).round(2))\n",
    "probabilities"
   ]
  },
  {
   "cell_type": "code",
   "execution_count": 41,
   "id": "7bb2a56f",
   "metadata": {
    "scrolled": true
   },
   "outputs": [
    {
     "data": {
      "text/html": [
       "<div>\n",
       "<style scoped>\n",
       "    .dataframe tbody tr th:only-of-type {\n",
       "        vertical-align: middle;\n",
       "    }\n",
       "\n",
       "    .dataframe tbody tr th {\n",
       "        vertical-align: top;\n",
       "    }\n",
       "\n",
       "    .dataframe thead th {\n",
       "        text-align: right;\n",
       "    }\n",
       "</style>\n",
       "<table border=\"1\" class=\"dataframe\">\n",
       "  <thead>\n",
       "    <tr style=\"text-align: right;\">\n",
       "      <th></th>\n",
       "      <th>0</th>\n",
       "      <th>1</th>\n",
       "      <th>new_pred</th>\n",
       "    </tr>\n",
       "  </thead>\n",
       "  <tbody>\n",
       "    <tr>\n",
       "      <th>0</th>\n",
       "      <td>0.73</td>\n",
       "      <td>0.27</td>\n",
       "      <td>0</td>\n",
       "    </tr>\n",
       "    <tr>\n",
       "      <th>1</th>\n",
       "      <td>0.55</td>\n",
       "      <td>0.45</td>\n",
       "      <td>0</td>\n",
       "    </tr>\n",
       "    <tr>\n",
       "      <th>2</th>\n",
       "      <td>0.73</td>\n",
       "      <td>0.27</td>\n",
       "      <td>0</td>\n",
       "    </tr>\n",
       "    <tr>\n",
       "      <th>3</th>\n",
       "      <td>0.36</td>\n",
       "      <td>0.64</td>\n",
       "      <td>0</td>\n",
       "    </tr>\n",
       "    <tr>\n",
       "      <th>4</th>\n",
       "      <td>0.73</td>\n",
       "      <td>0.27</td>\n",
       "      <td>0</td>\n",
       "    </tr>\n",
       "    <tr>\n",
       "      <th>...</th>\n",
       "      <td>...</td>\n",
       "      <td>...</td>\n",
       "      <td>...</td>\n",
       "    </tr>\n",
       "    <tr>\n",
       "      <th>707</th>\n",
       "      <td>0.36</td>\n",
       "      <td>0.64</td>\n",
       "      <td>0</td>\n",
       "    </tr>\n",
       "    <tr>\n",
       "      <th>708</th>\n",
       "      <td>0.73</td>\n",
       "      <td>0.27</td>\n",
       "      <td>0</td>\n",
       "    </tr>\n",
       "    <tr>\n",
       "      <th>709</th>\n",
       "      <td>0.36</td>\n",
       "      <td>0.64</td>\n",
       "      <td>0</td>\n",
       "    </tr>\n",
       "    <tr>\n",
       "      <th>710</th>\n",
       "      <td>0.73</td>\n",
       "      <td>0.27</td>\n",
       "      <td>0</td>\n",
       "    </tr>\n",
       "    <tr>\n",
       "      <th>711</th>\n",
       "      <td>0.55</td>\n",
       "      <td>0.45</td>\n",
       "      <td>0</td>\n",
       "    </tr>\n",
       "  </tbody>\n",
       "</table>\n",
       "<p>712 rows × 3 columns</p>\n",
       "</div>"
      ],
      "text/plain": [
       "        0     1  new_pred\n",
       "0    0.73  0.27         0\n",
       "1    0.55  0.45         0\n",
       "2    0.73  0.27         0\n",
       "3    0.36  0.64         0\n",
       "4    0.73  0.27         0\n",
       "..    ...   ...       ...\n",
       "707  0.36  0.64         0\n",
       "708  0.73  0.27         0\n",
       "709  0.36  0.64         0\n",
       "710  0.73  0.27         0\n",
       "711  0.55  0.45         0\n",
       "\n",
       "[712 rows x 3 columns]"
      ]
     },
     "execution_count": 41,
     "metadata": {},
     "output_type": "execute_result"
    }
   ],
   "source": [
    "probabilities['new_pred'] = probabilities[1] >= 0.90 \n",
    "probabilities['new_pred'] = probabilities['new_pred'].astype(int)\n",
    "probabilities"
   ]
  },
  {
   "cell_type": "code",
   "execution_count": 42,
   "id": "38f122c3",
   "metadata": {},
   "outputs": [
    {
     "data": {
      "text/plain": [
       "0    712\n",
       "Name: new_pred, dtype: int64"
      ]
     },
     "execution_count": 42,
     "metadata": {},
     "output_type": "execute_result"
    }
   ],
   "source": [
    "probabilities['new_pred'].value_counts()"
   ]
  },
  {
   "cell_type": "code",
   "execution_count": 43,
   "id": "201bdefc",
   "metadata": {
    "scrolled": true
   },
   "outputs": [
    {
     "data": {
      "text/plain": [
       "0.7612359550561798"
      ]
     },
     "execution_count": 43,
     "metadata": {},
     "output_type": "execute_result"
    }
   ],
   "source": [
    "m_reg.score(X_train, probabilities['new_pred'])"
   ]
  },
  {
   "cell_type": "markdown",
   "id": "0a768b22",
   "metadata": {},
   "source": [
    "### Binning age data"
   ]
  },
  {
   "cell_type": "code",
   "execution_count": 44,
   "id": "cbc98478",
   "metadata": {},
   "outputs": [],
   "source": [
    "bins = pd.IntervalIndex.from_tuples([(0, 12), (13, 50), (51, 100)])\n",
    "full_data['child_adult_older'] = pd.cut(full_data['Age'], bins, labels=['child', 'adult', 'older'])"
   ]
  },
  {
   "cell_type": "code",
   "execution_count": 45,
   "id": "ca4414b8",
   "metadata": {},
   "outputs": [
    {
     "data": {
      "text/html": [
       "<div>\n",
       "<style scoped>\n",
       "    .dataframe tbody tr th:only-of-type {\n",
       "        vertical-align: middle;\n",
       "    }\n",
       "\n",
       "    .dataframe tbody tr th {\n",
       "        vertical-align: top;\n",
       "    }\n",
       "\n",
       "    .dataframe thead th {\n",
       "        text-align: right;\n",
       "    }\n",
       "</style>\n",
       "<table border=\"1\" class=\"dataframe\">\n",
       "  <thead>\n",
       "    <tr style=\"text-align: right;\">\n",
       "      <th></th>\n",
       "      <th>PassengerId</th>\n",
       "      <th>Survived</th>\n",
       "      <th>Pclass</th>\n",
       "      <th>Name</th>\n",
       "      <th>Sex</th>\n",
       "      <th>Age</th>\n",
       "      <th>SibSp</th>\n",
       "      <th>Parch</th>\n",
       "      <th>Ticket</th>\n",
       "      <th>Fare</th>\n",
       "      <th>Cabin</th>\n",
       "      <th>Embarked</th>\n",
       "      <th>child_adult_older</th>\n",
       "    </tr>\n",
       "  </thead>\n",
       "  <tbody>\n",
       "    <tr>\n",
       "      <th>0</th>\n",
       "      <td>1</td>\n",
       "      <td>0</td>\n",
       "      <td>3</td>\n",
       "      <td>Braund, Mr. Owen Harris</td>\n",
       "      <td>male</td>\n",
       "      <td>22.0</td>\n",
       "      <td>1</td>\n",
       "      <td>0</td>\n",
       "      <td>A/5 21171</td>\n",
       "      <td>7.2500</td>\n",
       "      <td>NaN</td>\n",
       "      <td>S</td>\n",
       "      <td>(13, 50]</td>\n",
       "    </tr>\n",
       "    <tr>\n",
       "      <th>1</th>\n",
       "      <td>2</td>\n",
       "      <td>1</td>\n",
       "      <td>1</td>\n",
       "      <td>Cumings, Mrs. John Bradley (Florence Briggs Th...</td>\n",
       "      <td>female</td>\n",
       "      <td>38.0</td>\n",
       "      <td>1</td>\n",
       "      <td>0</td>\n",
       "      <td>PC 17599</td>\n",
       "      <td>71.2833</td>\n",
       "      <td>C85</td>\n",
       "      <td>C</td>\n",
       "      <td>(13, 50]</td>\n",
       "    </tr>\n",
       "    <tr>\n",
       "      <th>2</th>\n",
       "      <td>3</td>\n",
       "      <td>1</td>\n",
       "      <td>3</td>\n",
       "      <td>Heikkinen, Miss. Laina</td>\n",
       "      <td>female</td>\n",
       "      <td>26.0</td>\n",
       "      <td>0</td>\n",
       "      <td>0</td>\n",
       "      <td>STON/O2. 3101282</td>\n",
       "      <td>7.9250</td>\n",
       "      <td>NaN</td>\n",
       "      <td>S</td>\n",
       "      <td>(13, 50]</td>\n",
       "    </tr>\n",
       "    <tr>\n",
       "      <th>3</th>\n",
       "      <td>4</td>\n",
       "      <td>1</td>\n",
       "      <td>1</td>\n",
       "      <td>Futrelle, Mrs. Jacques Heath (Lily May Peel)</td>\n",
       "      <td>female</td>\n",
       "      <td>35.0</td>\n",
       "      <td>1</td>\n",
       "      <td>0</td>\n",
       "      <td>113803</td>\n",
       "      <td>53.1000</td>\n",
       "      <td>C123</td>\n",
       "      <td>S</td>\n",
       "      <td>(13, 50]</td>\n",
       "    </tr>\n",
       "    <tr>\n",
       "      <th>4</th>\n",
       "      <td>5</td>\n",
       "      <td>0</td>\n",
       "      <td>3</td>\n",
       "      <td>Allen, Mr. William Henry</td>\n",
       "      <td>male</td>\n",
       "      <td>35.0</td>\n",
       "      <td>0</td>\n",
       "      <td>0</td>\n",
       "      <td>373450</td>\n",
       "      <td>8.0500</td>\n",
       "      <td>NaN</td>\n",
       "      <td>S</td>\n",
       "      <td>(13, 50]</td>\n",
       "    </tr>\n",
       "  </tbody>\n",
       "</table>\n",
       "</div>"
      ],
      "text/plain": [
       "   PassengerId  Survived  Pclass  \\\n",
       "0            1         0       3   \n",
       "1            2         1       1   \n",
       "2            3         1       3   \n",
       "3            4         1       1   \n",
       "4            5         0       3   \n",
       "\n",
       "                                                Name     Sex   Age  SibSp  \\\n",
       "0                            Braund, Mr. Owen Harris    male  22.0      1   \n",
       "1  Cumings, Mrs. John Bradley (Florence Briggs Th...  female  38.0      1   \n",
       "2                             Heikkinen, Miss. Laina  female  26.0      0   \n",
       "3       Futrelle, Mrs. Jacques Heath (Lily May Peel)  female  35.0      1   \n",
       "4                           Allen, Mr. William Henry    male  35.0      0   \n",
       "\n",
       "   Parch            Ticket     Fare Cabin Embarked child_adult_older  \n",
       "0      0         A/5 21171   7.2500   NaN        S          (13, 50]  \n",
       "1      0          PC 17599  71.2833   C85        C          (13, 50]  \n",
       "2      0  STON/O2. 3101282   7.9250   NaN        S          (13, 50]  \n",
       "3      0            113803  53.1000  C123        S          (13, 50]  \n",
       "4      0            373450   8.0500   NaN        S          (13, 50]  "
      ]
     },
     "execution_count": 45,
     "metadata": {},
     "output_type": "execute_result"
    }
   ],
   "source": [
    "full_data.head()"
   ]
  },
  {
   "cell_type": "code",
   "execution_count": 46,
   "id": "ce5eded3",
   "metadata": {
    "scrolled": true
   },
   "outputs": [
    {
     "data": {
      "text/plain": [
       "(13, 50]     579\n",
       "(0, 12]       69\n",
       "(51, 100]     57\n",
       "Name: child_adult_older, dtype: int64"
      ]
     },
     "execution_count": 46,
     "metadata": {},
     "output_type": "execute_result"
    }
   ],
   "source": [
    "full_data['child_adult_older'].value_counts()"
   ]
  },
  {
   "cell_type": "markdown",
   "id": "440f1886",
   "metadata": {},
   "source": [
    "### Create features using One-Hot Encoding"
   ]
  },
  {
   "cell_type": "markdown",
   "id": "8246b5cb",
   "metadata": {},
   "source": [
    "Create one-hot encoding column for male/female."
   ]
  },
  {
   "cell_type": "code",
   "execution_count": 47,
   "id": "9498a3b0",
   "metadata": {},
   "outputs": [
    {
     "data": {
      "text/html": [
       "<div>\n",
       "<style scoped>\n",
       "    .dataframe tbody tr th:only-of-type {\n",
       "        vertical-align: middle;\n",
       "    }\n",
       "\n",
       "    .dataframe tbody tr th {\n",
       "        vertical-align: top;\n",
       "    }\n",
       "\n",
       "    .dataframe thead th {\n",
       "        text-align: right;\n",
       "    }\n",
       "</style>\n",
       "<table border=\"1\" class=\"dataframe\">\n",
       "  <thead>\n",
       "    <tr style=\"text-align: right;\">\n",
       "      <th></th>\n",
       "      <th>female</th>\n",
       "      <th>male</th>\n",
       "    </tr>\n",
       "  </thead>\n",
       "  <tbody>\n",
       "    <tr>\n",
       "      <th>0</th>\n",
       "      <td>0</td>\n",
       "      <td>1</td>\n",
       "    </tr>\n",
       "    <tr>\n",
       "      <th>1</th>\n",
       "      <td>1</td>\n",
       "      <td>0</td>\n",
       "    </tr>\n",
       "    <tr>\n",
       "      <th>2</th>\n",
       "      <td>1</td>\n",
       "      <td>0</td>\n",
       "    </tr>\n",
       "    <tr>\n",
       "      <th>3</th>\n",
       "      <td>1</td>\n",
       "      <td>0</td>\n",
       "    </tr>\n",
       "    <tr>\n",
       "      <th>4</th>\n",
       "      <td>0</td>\n",
       "      <td>1</td>\n",
       "    </tr>\n",
       "    <tr>\n",
       "      <th>...</th>\n",
       "      <td>...</td>\n",
       "      <td>...</td>\n",
       "    </tr>\n",
       "    <tr>\n",
       "      <th>886</th>\n",
       "      <td>0</td>\n",
       "      <td>1</td>\n",
       "    </tr>\n",
       "    <tr>\n",
       "      <th>887</th>\n",
       "      <td>1</td>\n",
       "      <td>0</td>\n",
       "    </tr>\n",
       "    <tr>\n",
       "      <th>888</th>\n",
       "      <td>1</td>\n",
       "      <td>0</td>\n",
       "    </tr>\n",
       "    <tr>\n",
       "      <th>889</th>\n",
       "      <td>0</td>\n",
       "      <td>1</td>\n",
       "    </tr>\n",
       "    <tr>\n",
       "      <th>890</th>\n",
       "      <td>0</td>\n",
       "      <td>1</td>\n",
       "    </tr>\n",
       "  </tbody>\n",
       "</table>\n",
       "<p>891 rows × 2 columns</p>\n",
       "</div>"
      ],
      "text/plain": [
       "     female  male\n",
       "0         0     1\n",
       "1         1     0\n",
       "2         1     0\n",
       "3         1     0\n",
       "4         0     1\n",
       "..      ...   ...\n",
       "886       0     1\n",
       "887       1     0\n",
       "888       1     0\n",
       "889       0     1\n",
       "890       0     1\n",
       "\n",
       "[891 rows x 2 columns]"
      ]
     },
     "execution_count": 47,
     "metadata": {},
     "output_type": "execute_result"
    }
   ],
   "source": [
    "pd.get_dummies(full_data['Sex'])"
   ]
  },
  {
   "cell_type": "code",
   "execution_count": 48,
   "id": "6a2628df",
   "metadata": {},
   "outputs": [
    {
     "data": {
      "text/html": [
       "<div>\n",
       "<style scoped>\n",
       "    .dataframe tbody tr th:only-of-type {\n",
       "        vertical-align: middle;\n",
       "    }\n",
       "\n",
       "    .dataframe tbody tr th {\n",
       "        vertical-align: top;\n",
       "    }\n",
       "\n",
       "    .dataframe thead th {\n",
       "        text-align: right;\n",
       "    }\n",
       "</style>\n",
       "<table border=\"1\" class=\"dataframe\">\n",
       "  <thead>\n",
       "    <tr style=\"text-align: right;\">\n",
       "      <th></th>\n",
       "      <th>PassengerId</th>\n",
       "      <th>Survived</th>\n",
       "      <th>Pclass</th>\n",
       "      <th>Name</th>\n",
       "      <th>Sex</th>\n",
       "      <th>Age</th>\n",
       "      <th>SibSp</th>\n",
       "      <th>Parch</th>\n",
       "      <th>Ticket</th>\n",
       "      <th>Fare</th>\n",
       "      <th>Cabin</th>\n",
       "      <th>Embarked</th>\n",
       "      <th>child_adult_older</th>\n",
       "      <th>female</th>\n",
       "      <th>male</th>\n",
       "    </tr>\n",
       "  </thead>\n",
       "  <tbody>\n",
       "    <tr>\n",
       "      <th>0</th>\n",
       "      <td>1</td>\n",
       "      <td>0</td>\n",
       "      <td>3</td>\n",
       "      <td>Braund, Mr. Owen Harris</td>\n",
       "      <td>male</td>\n",
       "      <td>22.0</td>\n",
       "      <td>1</td>\n",
       "      <td>0</td>\n",
       "      <td>A/5 21171</td>\n",
       "      <td>7.2500</td>\n",
       "      <td>NaN</td>\n",
       "      <td>S</td>\n",
       "      <td>(13, 50]</td>\n",
       "      <td>0</td>\n",
       "      <td>1</td>\n",
       "    </tr>\n",
       "    <tr>\n",
       "      <th>1</th>\n",
       "      <td>2</td>\n",
       "      <td>1</td>\n",
       "      <td>1</td>\n",
       "      <td>Cumings, Mrs. John Bradley (Florence Briggs Th...</td>\n",
       "      <td>female</td>\n",
       "      <td>38.0</td>\n",
       "      <td>1</td>\n",
       "      <td>0</td>\n",
       "      <td>PC 17599</td>\n",
       "      <td>71.2833</td>\n",
       "      <td>C85</td>\n",
       "      <td>C</td>\n",
       "      <td>(13, 50]</td>\n",
       "      <td>1</td>\n",
       "      <td>0</td>\n",
       "    </tr>\n",
       "  </tbody>\n",
       "</table>\n",
       "</div>"
      ],
      "text/plain": [
       "   PassengerId  Survived  Pclass  \\\n",
       "0            1         0       3   \n",
       "1            2         1       1   \n",
       "\n",
       "                                                Name     Sex   Age  SibSp  \\\n",
       "0                            Braund, Mr. Owen Harris    male  22.0      1   \n",
       "1  Cumings, Mrs. John Bradley (Florence Briggs Th...  female  38.0      1   \n",
       "\n",
       "   Parch     Ticket     Fare Cabin Embarked child_adult_older  female  male  \n",
       "0      0  A/5 21171   7.2500   NaN        S          (13, 50]       0     1  \n",
       "1      0   PC 17599  71.2833   C85        C          (13, 50]       1     0  "
      ]
     },
     "execution_count": 48,
     "metadata": {},
     "output_type": "execute_result"
    }
   ],
   "source": [
    "full_data = full_data.merge(pd.get_dummies(full_data['Sex']), left_index=True, right_index=True)\n",
    "full_data.head(2)"
   ]
  },
  {
   "cell_type": "code",
   "execution_count": 49,
   "id": "cd06fdf4",
   "metadata": {},
   "outputs": [
    {
     "data": {
      "text/html": [
       "<div>\n",
       "<style scoped>\n",
       "    .dataframe tbody tr th:only-of-type {\n",
       "        vertical-align: middle;\n",
       "    }\n",
       "\n",
       "    .dataframe tbody tr th {\n",
       "        vertical-align: top;\n",
       "    }\n",
       "\n",
       "    .dataframe thead th {\n",
       "        text-align: right;\n",
       "    }\n",
       "</style>\n",
       "<table border=\"1\" class=\"dataframe\">\n",
       "  <thead>\n",
       "    <tr style=\"text-align: right;\">\n",
       "      <th></th>\n",
       "      <th>PassengerId</th>\n",
       "      <th>Survived</th>\n",
       "      <th>Pclass</th>\n",
       "      <th>Name</th>\n",
       "      <th>Sex</th>\n",
       "      <th>Age</th>\n",
       "      <th>SibSp</th>\n",
       "      <th>Parch</th>\n",
       "      <th>Ticket</th>\n",
       "      <th>Fare</th>\n",
       "      <th>Cabin</th>\n",
       "      <th>Embarked</th>\n",
       "      <th>child_adult_older</th>\n",
       "      <th>male</th>\n",
       "    </tr>\n",
       "  </thead>\n",
       "  <tbody>\n",
       "    <tr>\n",
       "      <th>0</th>\n",
       "      <td>1</td>\n",
       "      <td>0</td>\n",
       "      <td>3</td>\n",
       "      <td>Braund, Mr. Owen Harris</td>\n",
       "      <td>male</td>\n",
       "      <td>22.0</td>\n",
       "      <td>1</td>\n",
       "      <td>0</td>\n",
       "      <td>A/5 21171</td>\n",
       "      <td>7.2500</td>\n",
       "      <td>NaN</td>\n",
       "      <td>S</td>\n",
       "      <td>(13, 50]</td>\n",
       "      <td>1</td>\n",
       "    </tr>\n",
       "    <tr>\n",
       "      <th>1</th>\n",
       "      <td>2</td>\n",
       "      <td>1</td>\n",
       "      <td>1</td>\n",
       "      <td>Cumings, Mrs. John Bradley (Florence Briggs Th...</td>\n",
       "      <td>female</td>\n",
       "      <td>38.0</td>\n",
       "      <td>1</td>\n",
       "      <td>0</td>\n",
       "      <td>PC 17599</td>\n",
       "      <td>71.2833</td>\n",
       "      <td>C85</td>\n",
       "      <td>C</td>\n",
       "      <td>(13, 50]</td>\n",
       "      <td>0</td>\n",
       "    </tr>\n",
       "  </tbody>\n",
       "</table>\n",
       "</div>"
      ],
      "text/plain": [
       "   PassengerId  Survived  Pclass  \\\n",
       "0            1         0       3   \n",
       "1            2         1       1   \n",
       "\n",
       "                                                Name     Sex   Age  SibSp  \\\n",
       "0                            Braund, Mr. Owen Harris    male  22.0      1   \n",
       "1  Cumings, Mrs. John Bradley (Florence Briggs Th...  female  38.0      1   \n",
       "\n",
       "   Parch     Ticket     Fare Cabin Embarked child_adult_older  male  \n",
       "0      0  A/5 21171   7.2500   NaN        S          (13, 50]     1  \n",
       "1      0   PC 17599  71.2833   C85        C          (13, 50]     0  "
      ]
     },
     "execution_count": 49,
     "metadata": {},
     "output_type": "execute_result"
    }
   ],
   "source": [
    "full_data = full_data.drop(['female'], axis=1)\n",
    "full_data.head(2)"
   ]
  },
  {
   "cell_type": "markdown",
   "id": "d30788f7",
   "metadata": {},
   "source": [
    "Create one-hot encoding column for age bins."
   ]
  },
  {
   "cell_type": "code",
   "execution_count": 50,
   "id": "4559767e",
   "metadata": {},
   "outputs": [
    {
     "data": {
      "text/html": [
       "<div>\n",
       "<style scoped>\n",
       "    .dataframe tbody tr th:only-of-type {\n",
       "        vertical-align: middle;\n",
       "    }\n",
       "\n",
       "    .dataframe tbody tr th {\n",
       "        vertical-align: top;\n",
       "    }\n",
       "\n",
       "    .dataframe thead th {\n",
       "        text-align: right;\n",
       "    }\n",
       "</style>\n",
       "<table border=\"1\" class=\"dataframe\">\n",
       "  <thead>\n",
       "    <tr style=\"text-align: right;\">\n",
       "      <th></th>\n",
       "      <th>(0, 12]</th>\n",
       "      <th>(13, 50]</th>\n",
       "      <th>(51, 100]</th>\n",
       "    </tr>\n",
       "  </thead>\n",
       "  <tbody>\n",
       "    <tr>\n",
       "      <th>0</th>\n",
       "      <td>0</td>\n",
       "      <td>1</td>\n",
       "      <td>0</td>\n",
       "    </tr>\n",
       "    <tr>\n",
       "      <th>1</th>\n",
       "      <td>0</td>\n",
       "      <td>1</td>\n",
       "      <td>0</td>\n",
       "    </tr>\n",
       "    <tr>\n",
       "      <th>2</th>\n",
       "      <td>0</td>\n",
       "      <td>1</td>\n",
       "      <td>0</td>\n",
       "    </tr>\n",
       "    <tr>\n",
       "      <th>3</th>\n",
       "      <td>0</td>\n",
       "      <td>1</td>\n",
       "      <td>0</td>\n",
       "    </tr>\n",
       "    <tr>\n",
       "      <th>4</th>\n",
       "      <td>0</td>\n",
       "      <td>1</td>\n",
       "      <td>0</td>\n",
       "    </tr>\n",
       "    <tr>\n",
       "      <th>...</th>\n",
       "      <td>...</td>\n",
       "      <td>...</td>\n",
       "      <td>...</td>\n",
       "    </tr>\n",
       "    <tr>\n",
       "      <th>886</th>\n",
       "      <td>0</td>\n",
       "      <td>1</td>\n",
       "      <td>0</td>\n",
       "    </tr>\n",
       "    <tr>\n",
       "      <th>887</th>\n",
       "      <td>0</td>\n",
       "      <td>1</td>\n",
       "      <td>0</td>\n",
       "    </tr>\n",
       "    <tr>\n",
       "      <th>888</th>\n",
       "      <td>0</td>\n",
       "      <td>0</td>\n",
       "      <td>0</td>\n",
       "    </tr>\n",
       "    <tr>\n",
       "      <th>889</th>\n",
       "      <td>0</td>\n",
       "      <td>1</td>\n",
       "      <td>0</td>\n",
       "    </tr>\n",
       "    <tr>\n",
       "      <th>890</th>\n",
       "      <td>0</td>\n",
       "      <td>1</td>\n",
       "      <td>0</td>\n",
       "    </tr>\n",
       "  </tbody>\n",
       "</table>\n",
       "<p>891 rows × 3 columns</p>\n",
       "</div>"
      ],
      "text/plain": [
       "     (0, 12]  (13, 50]  (51, 100]\n",
       "0          0         1          0\n",
       "1          0         1          0\n",
       "2          0         1          0\n",
       "3          0         1          0\n",
       "4          0         1          0\n",
       "..       ...       ...        ...\n",
       "886        0         1          0\n",
       "887        0         1          0\n",
       "888        0         0          0\n",
       "889        0         1          0\n",
       "890        0         1          0\n",
       "\n",
       "[891 rows x 3 columns]"
      ]
     },
     "execution_count": 50,
     "metadata": {},
     "output_type": "execute_result"
    }
   ],
   "source": [
    "pd.get_dummies(full_data['child_adult_older'])"
   ]
  },
  {
   "cell_type": "code",
   "execution_count": 51,
   "id": "c1f3785f",
   "metadata": {},
   "outputs": [
    {
     "data": {
      "text/html": [
       "<div>\n",
       "<style scoped>\n",
       "    .dataframe tbody tr th:only-of-type {\n",
       "        vertical-align: middle;\n",
       "    }\n",
       "\n",
       "    .dataframe tbody tr th {\n",
       "        vertical-align: top;\n",
       "    }\n",
       "\n",
       "    .dataframe thead th {\n",
       "        text-align: right;\n",
       "    }\n",
       "</style>\n",
       "<table border=\"1\" class=\"dataframe\">\n",
       "  <thead>\n",
       "    <tr style=\"text-align: right;\">\n",
       "      <th></th>\n",
       "      <th>PassengerId</th>\n",
       "      <th>Survived</th>\n",
       "      <th>Pclass</th>\n",
       "      <th>Name</th>\n",
       "      <th>Sex</th>\n",
       "      <th>Age</th>\n",
       "      <th>SibSp</th>\n",
       "      <th>Parch</th>\n",
       "      <th>Ticket</th>\n",
       "      <th>Fare</th>\n",
       "      <th>Cabin</th>\n",
       "      <th>Embarked</th>\n",
       "      <th>child_adult_older</th>\n",
       "      <th>male</th>\n",
       "      <th>(0, 12]</th>\n",
       "      <th>(13, 50]</th>\n",
       "      <th>(51, 100]</th>\n",
       "    </tr>\n",
       "  </thead>\n",
       "  <tbody>\n",
       "    <tr>\n",
       "      <th>0</th>\n",
       "      <td>1</td>\n",
       "      <td>0</td>\n",
       "      <td>3</td>\n",
       "      <td>Braund, Mr. Owen Harris</td>\n",
       "      <td>male</td>\n",
       "      <td>22.0</td>\n",
       "      <td>1</td>\n",
       "      <td>0</td>\n",
       "      <td>A/5 21171</td>\n",
       "      <td>7.2500</td>\n",
       "      <td>NaN</td>\n",
       "      <td>S</td>\n",
       "      <td>(13, 50]</td>\n",
       "      <td>1</td>\n",
       "      <td>0</td>\n",
       "      <td>1</td>\n",
       "      <td>0</td>\n",
       "    </tr>\n",
       "    <tr>\n",
       "      <th>1</th>\n",
       "      <td>2</td>\n",
       "      <td>1</td>\n",
       "      <td>1</td>\n",
       "      <td>Cumings, Mrs. John Bradley (Florence Briggs Th...</td>\n",
       "      <td>female</td>\n",
       "      <td>38.0</td>\n",
       "      <td>1</td>\n",
       "      <td>0</td>\n",
       "      <td>PC 17599</td>\n",
       "      <td>71.2833</td>\n",
       "      <td>C85</td>\n",
       "      <td>C</td>\n",
       "      <td>(13, 50]</td>\n",
       "      <td>0</td>\n",
       "      <td>0</td>\n",
       "      <td>1</td>\n",
       "      <td>0</td>\n",
       "    </tr>\n",
       "  </tbody>\n",
       "</table>\n",
       "</div>"
      ],
      "text/plain": [
       "   PassengerId  Survived  Pclass  \\\n",
       "0            1         0       3   \n",
       "1            2         1       1   \n",
       "\n",
       "                                                Name     Sex   Age  SibSp  \\\n",
       "0                            Braund, Mr. Owen Harris    male  22.0      1   \n",
       "1  Cumings, Mrs. John Bradley (Florence Briggs Th...  female  38.0      1   \n",
       "\n",
       "   Parch     Ticket     Fare Cabin Embarked child_adult_older  male  (0, 12]  \\\n",
       "0      0  A/5 21171   7.2500   NaN        S          (13, 50]     1        0   \n",
       "1      0   PC 17599  71.2833   C85        C          (13, 50]     0        0   \n",
       "\n",
       "   (13, 50]  (51, 100]  \n",
       "0         1          0  \n",
       "1         1          0  "
      ]
     },
     "execution_count": 51,
     "metadata": {},
     "output_type": "execute_result"
    }
   ],
   "source": [
    "full_data = full_data.merge(pd.get_dummies(full_data['child_adult_older']), left_index=True, right_index=True)\n",
    "full_data.head(2)"
   ]
  },
  {
   "cell_type": "code",
   "execution_count": 52,
   "id": "0a53ddf5",
   "metadata": {},
   "outputs": [
    {
     "data": {
      "text/html": [
       "<div>\n",
       "<style scoped>\n",
       "    .dataframe tbody tr th:only-of-type {\n",
       "        vertical-align: middle;\n",
       "    }\n",
       "\n",
       "    .dataframe tbody tr th {\n",
       "        vertical-align: top;\n",
       "    }\n",
       "\n",
       "    .dataframe thead th {\n",
       "        text-align: right;\n",
       "    }\n",
       "</style>\n",
       "<table border=\"1\" class=\"dataframe\">\n",
       "  <thead>\n",
       "    <tr style=\"text-align: right;\">\n",
       "      <th></th>\n",
       "      <th>PassengerId</th>\n",
       "      <th>Survived</th>\n",
       "      <th>Pclass</th>\n",
       "      <th>Name</th>\n",
       "      <th>Sex</th>\n",
       "      <th>Age</th>\n",
       "      <th>SibSp</th>\n",
       "      <th>Parch</th>\n",
       "      <th>Ticket</th>\n",
       "      <th>Fare</th>\n",
       "      <th>Cabin</th>\n",
       "      <th>Embarked</th>\n",
       "      <th>child_adult_older</th>\n",
       "      <th>male</th>\n",
       "      <th>(0, 12]</th>\n",
       "      <th>(13, 50]</th>\n",
       "    </tr>\n",
       "  </thead>\n",
       "  <tbody>\n",
       "    <tr>\n",
       "      <th>0</th>\n",
       "      <td>1</td>\n",
       "      <td>0</td>\n",
       "      <td>3</td>\n",
       "      <td>Braund, Mr. Owen Harris</td>\n",
       "      <td>male</td>\n",
       "      <td>22.0</td>\n",
       "      <td>1</td>\n",
       "      <td>0</td>\n",
       "      <td>A/5 21171</td>\n",
       "      <td>7.2500</td>\n",
       "      <td>NaN</td>\n",
       "      <td>S</td>\n",
       "      <td>(13, 50]</td>\n",
       "      <td>1</td>\n",
       "      <td>0</td>\n",
       "      <td>1</td>\n",
       "    </tr>\n",
       "    <tr>\n",
       "      <th>1</th>\n",
       "      <td>2</td>\n",
       "      <td>1</td>\n",
       "      <td>1</td>\n",
       "      <td>Cumings, Mrs. John Bradley (Florence Briggs Th...</td>\n",
       "      <td>female</td>\n",
       "      <td>38.0</td>\n",
       "      <td>1</td>\n",
       "      <td>0</td>\n",
       "      <td>PC 17599</td>\n",
       "      <td>71.2833</td>\n",
       "      <td>C85</td>\n",
       "      <td>C</td>\n",
       "      <td>(13, 50]</td>\n",
       "      <td>0</td>\n",
       "      <td>0</td>\n",
       "      <td>1</td>\n",
       "    </tr>\n",
       "  </tbody>\n",
       "</table>\n",
       "</div>"
      ],
      "text/plain": [
       "   PassengerId  Survived  Pclass  \\\n",
       "0            1         0       3   \n",
       "1            2         1       1   \n",
       "\n",
       "                                                Name     Sex   Age  SibSp  \\\n",
       "0                            Braund, Mr. Owen Harris    male  22.0      1   \n",
       "1  Cumings, Mrs. John Bradley (Florence Briggs Th...  female  38.0      1   \n",
       "\n",
       "   Parch     Ticket     Fare Cabin Embarked child_adult_older  male  (0, 12]  \\\n",
       "0      0  A/5 21171   7.2500   NaN        S          (13, 50]     1        0   \n",
       "1      0   PC 17599  71.2833   C85        C          (13, 50]     0        0   \n",
       "\n",
       "   (13, 50]  \n",
       "0         1  \n",
       "1         1  "
      ]
     },
     "execution_count": 52,
     "metadata": {},
     "output_type": "execute_result"
    }
   ],
   "source": [
    "full_data = full_data.iloc[: , :-1]\n",
    "full_data.head(2)"
   ]
  },
  {
   "cell_type": "code",
   "execution_count": 63,
   "id": "0b36f4d1",
   "metadata": {},
   "outputs": [
    {
     "data": {
      "text/html": [
       "<div>\n",
       "<style scoped>\n",
       "    .dataframe tbody tr th:only-of-type {\n",
       "        vertical-align: middle;\n",
       "    }\n",
       "\n",
       "    .dataframe tbody tr th {\n",
       "        vertical-align: top;\n",
       "    }\n",
       "\n",
       "    .dataframe thead th {\n",
       "        text-align: right;\n",
       "    }\n",
       "</style>\n",
       "<table border=\"1\" class=\"dataframe\">\n",
       "  <thead>\n",
       "    <tr style=\"text-align: right;\">\n",
       "      <th></th>\n",
       "      <th>PassengerId</th>\n",
       "      <th>Survived</th>\n",
       "      <th>Pclass</th>\n",
       "      <th>Name</th>\n",
       "      <th>Sex</th>\n",
       "      <th>Age</th>\n",
       "      <th>SibSp</th>\n",
       "      <th>Parch</th>\n",
       "      <th>Ticket</th>\n",
       "      <th>Fare</th>\n",
       "      <th>Cabin</th>\n",
       "      <th>Embarked</th>\n",
       "      <th>child_adult_older</th>\n",
       "      <th>male</th>\n",
       "      <th>child</th>\n",
       "      <th>adult</th>\n",
       "    </tr>\n",
       "  </thead>\n",
       "  <tbody>\n",
       "    <tr>\n",
       "      <th>0</th>\n",
       "      <td>1</td>\n",
       "      <td>0</td>\n",
       "      <td>3</td>\n",
       "      <td>Braund, Mr. Owen Harris</td>\n",
       "      <td>male</td>\n",
       "      <td>22.0</td>\n",
       "      <td>1</td>\n",
       "      <td>0</td>\n",
       "      <td>A/5 21171</td>\n",
       "      <td>7.2500</td>\n",
       "      <td>NaN</td>\n",
       "      <td>S</td>\n",
       "      <td>(13, 50]</td>\n",
       "      <td>1</td>\n",
       "      <td>0</td>\n",
       "      <td>1</td>\n",
       "    </tr>\n",
       "    <tr>\n",
       "      <th>1</th>\n",
       "      <td>2</td>\n",
       "      <td>1</td>\n",
       "      <td>1</td>\n",
       "      <td>Cumings, Mrs. John Bradley (Florence Briggs Th...</td>\n",
       "      <td>female</td>\n",
       "      <td>38.0</td>\n",
       "      <td>1</td>\n",
       "      <td>0</td>\n",
       "      <td>PC 17599</td>\n",
       "      <td>71.2833</td>\n",
       "      <td>C85</td>\n",
       "      <td>C</td>\n",
       "      <td>(13, 50]</td>\n",
       "      <td>0</td>\n",
       "      <td>0</td>\n",
       "      <td>1</td>\n",
       "    </tr>\n",
       "  </tbody>\n",
       "</table>\n",
       "</div>"
      ],
      "text/plain": [
       "   PassengerId  Survived  Pclass  \\\n",
       "0            1         0       3   \n",
       "1            2         1       1   \n",
       "\n",
       "                                                Name     Sex   Age  SibSp  \\\n",
       "0                            Braund, Mr. Owen Harris    male  22.0      1   \n",
       "1  Cumings, Mrs. John Bradley (Florence Briggs Th...  female  38.0      1   \n",
       "\n",
       "   Parch     Ticket     Fare Cabin Embarked child_adult_older  male  child  \\\n",
       "0      0  A/5 21171   7.2500   NaN        S          (13, 50]     1      0   \n",
       "1      0   PC 17599  71.2833   C85        C          (13, 50]     0      0   \n",
       "\n",
       "   adult  \n",
       "0      1  \n",
       "1      1  "
      ]
     },
     "execution_count": 63,
     "metadata": {},
     "output_type": "execute_result"
    }
   ],
   "source": [
    "full_data.rename(columns={full_data.columns[-1]: 'adult'}, inplace = True)\n",
    "full_data.rename(columns={full_data.columns[-2]: 'child'}, inplace = True)\n",
    "full_data.head(2)"
   ]
  },
  {
   "cell_type": "markdown",
   "id": "cdf857e1",
   "metadata": {},
   "source": [
    "### Logistic regression w/ added feature 'male'"
   ]
  },
  {
   "cell_type": "code",
   "execution_count": 54,
   "id": "c32bf180",
   "metadata": {},
   "outputs": [],
   "source": [
    "X = full_data[['Pclass', 'male']] \n",
    "y = full_data['Survived']"
   ]
  },
  {
   "cell_type": "code",
   "execution_count": 55,
   "id": "c04d5acc",
   "metadata": {},
   "outputs": [],
   "source": [
    "X_train, X_test, y_train, y_test = train_test_split(X, y, test_size=0.2, random_state=10)"
   ]
  },
  {
   "cell_type": "code",
   "execution_count": 56,
   "id": "5678c34c",
   "metadata": {},
   "outputs": [
    {
     "data": {
      "text/plain": [
       "0.7780898876404494"
      ]
     },
     "execution_count": 56,
     "metadata": {},
     "output_type": "execute_result"
    }
   ],
   "source": [
    "m_reg = LogisticRegression()\n",
    "m_reg.fit(X_train, y_train)\n",
    "m_reg.score(X_train, y_train)"
   ]
  },
  {
   "cell_type": "code",
   "execution_count": 57,
   "id": "ae3859ec",
   "metadata": {},
   "outputs": [
    {
     "data": {
      "text/plain": [
       "0.8212290502793296"
      ]
     },
     "execution_count": 57,
     "metadata": {},
     "output_type": "execute_result"
    }
   ],
   "source": [
    "m_reg.score(X_test, y_test)"
   ]
  },
  {
   "cell_type": "code",
   "execution_count": 58,
   "id": "89f6f7d8",
   "metadata": {},
   "outputs": [
    {
     "data": {
      "text/plain": [
       "(array([3.06280347]), array([[-0.89185698, -2.45464709]]))"
      ]
     },
     "execution_count": 58,
     "metadata": {},
     "output_type": "execute_result"
    }
   ],
   "source": [
    "m_reg.intercept_, m_reg.coef_"
   ]
  },
  {
   "cell_type": "code",
   "execution_count": 59,
   "id": "ad623ac1",
   "metadata": {
    "scrolled": false
   },
   "outputs": [
    {
     "data": {
      "text/plain": [
       "array([[0.89, 0.11],\n",
       "       [0.22, 0.78],\n",
       "       [0.4 , 0.6 ],\n",
       "       ...,\n",
       "       [0.57, 0.43],\n",
       "       [0.89, 0.11],\n",
       "       [0.76, 0.24]])"
      ]
     },
     "execution_count": 59,
     "metadata": {},
     "output_type": "execute_result"
    }
   ],
   "source": [
    "m_reg.predict_proba(X_train).round(2)"
   ]
  },
  {
   "cell_type": "markdown",
   "id": "2fd241d2",
   "metadata": {},
   "source": [
    "### Logistic regression - Pclass, male, age bins"
   ]
  },
  {
   "cell_type": "code",
   "execution_count": 64,
   "id": "680b3495",
   "metadata": {},
   "outputs": [],
   "source": [
    "X = full_data[['Pclass', 'male', 'child', 'adult']] \n",
    "y = full_data['Survived']"
   ]
  },
  {
   "cell_type": "code",
   "execution_count": 65,
   "id": "e85742a9",
   "metadata": {},
   "outputs": [],
   "source": [
    "X_train, X_test, y_train, y_test = train_test_split(X, y, test_size=0.2, random_state=10)"
   ]
  },
  {
   "cell_type": "code",
   "execution_count": 66,
   "id": "5940cb87",
   "metadata": {},
   "outputs": [
    {
     "data": {
      "text/plain": [
       "0.7780898876404494"
      ]
     },
     "execution_count": 66,
     "metadata": {},
     "output_type": "execute_result"
    }
   ],
   "source": [
    "m_reg = LogisticRegression()\n",
    "m_reg.fit(X_train, y_train)\n",
    "m_reg.score(X_train, y_train)"
   ]
  },
  {
   "cell_type": "code",
   "execution_count": 67,
   "id": "d00465cc",
   "metadata": {},
   "outputs": [
    {
     "data": {
      "text/plain": [
       "0.8379888268156425"
      ]
     },
     "execution_count": 67,
     "metadata": {},
     "output_type": "execute_result"
    }
   ],
   "source": [
    "m_reg.score(X_test, y_test)"
   ]
  },
  {
   "cell_type": "code",
   "execution_count": 68,
   "id": "78cef031",
   "metadata": {},
   "outputs": [
    {
     "data": {
      "text/plain": [
       "(array([3.08875677]),\n",
       " array([[-0.93986013, -2.42076337,  0.8383373 , -0.01602037]]))"
      ]
     },
     "execution_count": 68,
     "metadata": {},
     "output_type": "execute_result"
    }
   ],
   "source": [
    "m_reg.intercept_, m_reg.coef_"
   ]
  },
  {
   "cell_type": "code",
   "execution_count": 69,
   "id": "3c656624",
   "metadata": {
    "scrolled": true
   },
   "outputs": [
    {
     "data": {
      "text/plain": [
       "array([[0.9 , 0.1 ],\n",
       "       [0.23, 0.77],\n",
       "       [0.43, 0.57],\n",
       "       ...,\n",
       "       [0.57, 0.43],\n",
       "       [0.79, 0.21],\n",
       "       [0.77, 0.23]])"
      ]
     },
     "execution_count": 69,
     "metadata": {},
     "output_type": "execute_result"
    }
   ],
   "source": [
    "m_reg.predict_proba(X_train).round(2)"
   ]
  },
  {
   "cell_type": "markdown",
   "id": "0a8ff397",
   "metadata": {},
   "source": [
    "### More feature engineering with OHE - cabin letters\n"
   ]
  },
  {
   "cell_type": "markdown",
   "id": "6643bf8b",
   "metadata": {},
   "source": [
    "Fill 'Cabin' missing values: Fill new column 'Cabin Letter' missing values based on probability of letter per 'Pclass'"
   ]
  },
  {
   "cell_type": "code",
   "execution_count": 70,
   "id": "a812f26b",
   "metadata": {},
   "outputs": [
    {
     "name": "stdout",
     "output_type": "stream",
     "text": [
      "<class 'pandas.core.frame.DataFrame'>\n",
      "Int64Index: 712 entries, 57 to 265\n",
      "Data columns (total 12 columns):\n",
      " #   Column       Non-Null Count  Dtype  \n",
      "---  ------       --------------  -----  \n",
      " 0   PassengerId  712 non-null    int64  \n",
      " 1   Pclass       712 non-null    int64  \n",
      " 2   Name         712 non-null    object \n",
      " 3   Sex          712 non-null    object \n",
      " 4   Age          712 non-null    float64\n",
      " 5   SibSp        712 non-null    int64  \n",
      " 6   Parch        712 non-null    int64  \n",
      " 7   Ticket       712 non-null    object \n",
      " 8   Fare         712 non-null    float64\n",
      " 9   Cabin        158 non-null    object \n",
      " 10  Embarked     712 non-null    object \n",
      " 11  Survived     712 non-null    int64  \n",
      "dtypes: float64(2), int64(5), object(5)\n",
      "memory usage: 88.5+ KB\n"
     ]
    }
   ],
   "source": [
    "df.info()"
   ]
  },
  {
   "cell_type": "code",
   "execution_count": 71,
   "id": "c58f5211",
   "metadata": {
    "scrolled": true
   },
   "outputs": [
    {
     "data": {
      "text/html": [
       "<div>\n",
       "<style scoped>\n",
       "    .dataframe tbody tr th:only-of-type {\n",
       "        vertical-align: middle;\n",
       "    }\n",
       "\n",
       "    .dataframe tbody tr th {\n",
       "        vertical-align: top;\n",
       "    }\n",
       "\n",
       "    .dataframe thead th {\n",
       "        text-align: right;\n",
       "    }\n",
       "</style>\n",
       "<table border=\"1\" class=\"dataframe\">\n",
       "  <thead>\n",
       "    <tr style=\"text-align: right;\">\n",
       "      <th></th>\n",
       "      <th>PassengerId</th>\n",
       "      <th>Pclass</th>\n",
       "      <th>Name</th>\n",
       "      <th>Sex</th>\n",
       "      <th>Age</th>\n",
       "      <th>SibSp</th>\n",
       "      <th>Parch</th>\n",
       "      <th>Ticket</th>\n",
       "      <th>Fare</th>\n",
       "      <th>Cabin</th>\n",
       "      <th>Embarked</th>\n",
       "      <th>Survived</th>\n",
       "    </tr>\n",
       "  </thead>\n",
       "  <tbody>\n",
       "    <tr>\n",
       "      <th>57</th>\n",
       "      <td>58</td>\n",
       "      <td>3</td>\n",
       "      <td>Novel, Mr. Mansouer</td>\n",
       "      <td>male</td>\n",
       "      <td>28.50</td>\n",
       "      <td>0</td>\n",
       "      <td>0</td>\n",
       "      <td>2697</td>\n",
       "      <td>7.2292</td>\n",
       "      <td>NaN</td>\n",
       "      <td>C</td>\n",
       "      <td>0</td>\n",
       "    </tr>\n",
       "    <tr>\n",
       "      <th>431</th>\n",
       "      <td>432</td>\n",
       "      <td>3</td>\n",
       "      <td>Thorneycroft, Mrs. Percival (Florence Kate White)</td>\n",
       "      <td>female</td>\n",
       "      <td>28.79</td>\n",
       "      <td>1</td>\n",
       "      <td>0</td>\n",
       "      <td>376564</td>\n",
       "      <td>16.1000</td>\n",
       "      <td>NaN</td>\n",
       "      <td>S</td>\n",
       "      <td>1</td>\n",
       "    </tr>\n",
       "    <tr>\n",
       "      <th>633</th>\n",
       "      <td>634</td>\n",
       "      <td>1</td>\n",
       "      <td>Parr, Mr. William Henry Marsh</td>\n",
       "      <td>male</td>\n",
       "      <td>30.28</td>\n",
       "      <td>0</td>\n",
       "      <td>0</td>\n",
       "      <td>112052</td>\n",
       "      <td>0.0000</td>\n",
       "      <td>NaN</td>\n",
       "      <td>S</td>\n",
       "      <td>0</td>\n",
       "    </tr>\n",
       "    <tr>\n",
       "      <th>163</th>\n",
       "      <td>164</td>\n",
       "      <td>3</td>\n",
       "      <td>Calic, Mr. Jovo</td>\n",
       "      <td>male</td>\n",
       "      <td>17.00</td>\n",
       "      <td>0</td>\n",
       "      <td>0</td>\n",
       "      <td>315093</td>\n",
       "      <td>8.6625</td>\n",
       "      <td>NaN</td>\n",
       "      <td>S</td>\n",
       "      <td>0</td>\n",
       "    </tr>\n",
       "    <tr>\n",
       "      <th>864</th>\n",
       "      <td>865</td>\n",
       "      <td>2</td>\n",
       "      <td>Gill, Mr. John William</td>\n",
       "      <td>male</td>\n",
       "      <td>24.00</td>\n",
       "      <td>0</td>\n",
       "      <td>0</td>\n",
       "      <td>233866</td>\n",
       "      <td>13.0000</td>\n",
       "      <td>NaN</td>\n",
       "      <td>S</td>\n",
       "      <td>0</td>\n",
       "    </tr>\n",
       "  </tbody>\n",
       "</table>\n",
       "</div>"
      ],
      "text/plain": [
       "     PassengerId  Pclass                                               Name  \\\n",
       "57            58       3                                Novel, Mr. Mansouer   \n",
       "431          432       3  Thorneycroft, Mrs. Percival (Florence Kate White)   \n",
       "633          634       1                      Parr, Mr. William Henry Marsh   \n",
       "163          164       3                                    Calic, Mr. Jovo   \n",
       "864          865       2                             Gill, Mr. John William   \n",
       "\n",
       "        Sex    Age  SibSp  Parch  Ticket     Fare Cabin Embarked  Survived  \n",
       "57     male  28.50      0      0    2697   7.2292   NaN        C         0  \n",
       "431  female  28.79      1      0  376564  16.1000   NaN        S         1  \n",
       "633    male  30.28      0      0  112052   0.0000   NaN        S         0  \n",
       "163    male  17.00      0      0  315093   8.6625   NaN        S         0  \n",
       "864    male  24.00      0      0  233866  13.0000   NaN        S         0  "
      ]
     },
     "execution_count": 71,
     "metadata": {},
     "output_type": "execute_result"
    }
   ],
   "source": [
    "df.loc[df['Cabin'].isna()].head()"
   ]
  },
  {
   "cell_type": "code",
   "execution_count": 72,
   "id": "ce81608e",
   "metadata": {},
   "outputs": [
    {
     "data": {
      "text/plain": [
       "C    45\n",
       "B    35\n",
       "D    27\n",
       "E    25\n",
       "A    11\n",
       "F    10\n",
       "G     4\n",
       "T     1\n",
       "Name: Cabin Letter, dtype: int64"
      ]
     },
     "execution_count": 72,
     "metadata": {},
     "output_type": "execute_result"
    }
   ],
   "source": [
    "# Create new column with first letter of Cabin names\n",
    "df['Cabin Letter'] = df['Cabin'].str[0]\n",
    "df['Cabin Letter'].value_counts()"
   ]
  },
  {
   "cell_type": "markdown",
   "id": "41bb6216",
   "metadata": {},
   "source": [
    "Get probability of each Cabin Letter appearing in a certain Pclass."
   ]
  },
  {
   "cell_type": "code",
   "execution_count": 73,
   "id": "bddb61e6",
   "metadata": {
    "scrolled": true
   },
   "outputs": [
    {
     "data": {
      "text/html": [
       "<div>\n",
       "<style scoped>\n",
       "    .dataframe tbody tr th:only-of-type {\n",
       "        vertical-align: middle;\n",
       "    }\n",
       "\n",
       "    .dataframe tbody tr th {\n",
       "        vertical-align: top;\n",
       "    }\n",
       "\n",
       "    .dataframe thead th {\n",
       "        text-align: right;\n",
       "    }\n",
       "</style>\n",
       "<table border=\"1\" class=\"dataframe\">\n",
       "  <thead>\n",
       "    <tr style=\"text-align: right;\">\n",
       "      <th>Cabin Letter</th>\n",
       "      <th>A</th>\n",
       "      <th>B</th>\n",
       "      <th>C</th>\n",
       "      <th>D</th>\n",
       "      <th>E</th>\n",
       "      <th>F</th>\n",
       "      <th>G</th>\n",
       "      <th>T</th>\n",
       "      <th>All</th>\n",
       "    </tr>\n",
       "    <tr>\n",
       "      <th>Pclass</th>\n",
       "      <th></th>\n",
       "      <th></th>\n",
       "      <th></th>\n",
       "      <th></th>\n",
       "      <th></th>\n",
       "      <th></th>\n",
       "      <th></th>\n",
       "      <th></th>\n",
       "      <th></th>\n",
       "    </tr>\n",
       "  </thead>\n",
       "  <tbody>\n",
       "    <tr>\n",
       "      <th>1</th>\n",
       "      <td>11</td>\n",
       "      <td>35</td>\n",
       "      <td>45</td>\n",
       "      <td>24</td>\n",
       "      <td>19</td>\n",
       "      <td>0</td>\n",
       "      <td>0</td>\n",
       "      <td>1</td>\n",
       "      <td>135</td>\n",
       "    </tr>\n",
       "    <tr>\n",
       "      <th>2</th>\n",
       "      <td>0</td>\n",
       "      <td>0</td>\n",
       "      <td>0</td>\n",
       "      <td>3</td>\n",
       "      <td>4</td>\n",
       "      <td>6</td>\n",
       "      <td>0</td>\n",
       "      <td>0</td>\n",
       "      <td>13</td>\n",
       "    </tr>\n",
       "    <tr>\n",
       "      <th>3</th>\n",
       "      <td>0</td>\n",
       "      <td>0</td>\n",
       "      <td>0</td>\n",
       "      <td>0</td>\n",
       "      <td>2</td>\n",
       "      <td>4</td>\n",
       "      <td>4</td>\n",
       "      <td>0</td>\n",
       "      <td>10</td>\n",
       "    </tr>\n",
       "    <tr>\n",
       "      <th>All</th>\n",
       "      <td>11</td>\n",
       "      <td>35</td>\n",
       "      <td>45</td>\n",
       "      <td>27</td>\n",
       "      <td>25</td>\n",
       "      <td>10</td>\n",
       "      <td>4</td>\n",
       "      <td>1</td>\n",
       "      <td>158</td>\n",
       "    </tr>\n",
       "  </tbody>\n",
       "</table>\n",
       "</div>"
      ],
      "text/plain": [
       "Cabin Letter   A   B   C   D   E   F  G  T  All\n",
       "Pclass                                         \n",
       "1             11  35  45  24  19   0  0  1  135\n",
       "2              0   0   0   3   4   6  0  0   13\n",
       "3              0   0   0   0   2   4  4  0   10\n",
       "All           11  35  45  27  25  10  4  1  158"
      ]
     },
     "execution_count": 73,
     "metadata": {},
     "output_type": "execute_result"
    }
   ],
   "source": [
    "# Getting overview of number per cabins per letter per class\n",
    "cabin_lets = pd.crosstab(index=df['Pclass'], columns=df['Cabin Letter'], margins=True)\n",
    "cabin_lets"
   ]
  },
  {
   "cell_type": "code",
   "execution_count": 74,
   "id": "cfd19493",
   "metadata": {},
   "outputs": [],
   "source": [
    "# Same overview, different method\n",
    "#class_cabinlets = df.groupby('Pclass')['Cabin Letter']\n",
    "#class_cabinlets.value_counts()"
   ]
  },
  {
   "cell_type": "code",
   "execution_count": 75,
   "id": "d2810dfd",
   "metadata": {},
   "outputs": [
    {
     "data": {
      "text/plain": [
       "C    0.333333\n",
       "B    0.259259\n",
       "D    0.177778\n",
       "E    0.140741\n",
       "A    0.081481\n",
       "T    0.007407\n",
       "Name: Cabin Letter, dtype: float64"
      ]
     },
     "execution_count": 75,
     "metadata": {},
     "output_type": "execute_result"
    }
   ],
   "source": [
    "prob_c1 = df.loc[df['Pclass'] == 1]['Cabin Letter'].value_counts(normalize=True)\n",
    "prob_c1"
   ]
  },
  {
   "cell_type": "code",
   "execution_count": 76,
   "id": "f1563b7e",
   "metadata": {},
   "outputs": [
    {
     "data": {
      "text/plain": [
       "F    0.461538\n",
       "E    0.307692\n",
       "D    0.230769\n",
       "Name: Cabin Letter, dtype: float64"
      ]
     },
     "execution_count": 76,
     "metadata": {},
     "output_type": "execute_result"
    }
   ],
   "source": [
    "prob_c2 = df.loc[df['Pclass'] == 2]['Cabin Letter'].value_counts(normalize=True)\n",
    "prob_c2"
   ]
  },
  {
   "cell_type": "code",
   "execution_count": 77,
   "id": "f27c987a",
   "metadata": {
    "scrolled": true
   },
   "outputs": [
    {
     "data": {
      "text/plain": [
       "G    0.4\n",
       "F    0.4\n",
       "E    0.2\n",
       "Name: Cabin Letter, dtype: float64"
      ]
     },
     "execution_count": 77,
     "metadata": {},
     "output_type": "execute_result"
    }
   ],
   "source": [
    "prob_c3 = df.loc[df['Pclass'] == 3]['Cabin Letter'].value_counts(normalize=True)\n",
    "prob_c3"
   ]
  },
  {
   "cell_type": "markdown",
   "id": "11d43b07",
   "metadata": {},
   "source": [
    "Replace missing Cabin Letter values with values weighted by probability for each Pclass."
   ]
  },
  {
   "cell_type": "code",
   "execution_count": 78,
   "id": "7fe38346",
   "metadata": {},
   "outputs": [
    {
     "data": {
      "text/plain": [
       "57     False\n",
       "717    False\n",
       "431    False\n",
       "633     True\n",
       "163    False\n",
       "       ...  \n",
       "369    False\n",
       "320    False\n",
       "527    False\n",
       "125    False\n",
       "265    False\n",
       "Length: 712, dtype: bool"
      ]
     },
     "execution_count": 78,
     "metadata": {},
     "output_type": "execute_result"
    }
   ],
   "source": [
    "missing_c1 = (df['Pclass'] == 1) & (df['Cabin Letter'].isna())\n",
    "missing_c1"
   ]
  },
  {
   "cell_type": "code",
   "execution_count": 79,
   "id": "82b7b57e",
   "metadata": {},
   "outputs": [
    {
     "data": {
      "text/plain": [
       "PassengerId       0\n",
       "Pclass            0\n",
       "Name              0\n",
       "Sex               0\n",
       "Age               0\n",
       "SibSp             0\n",
       "Parch             0\n",
       "Ticket            0\n",
       "Fare              0\n",
       "Cabin           554\n",
       "Embarked          0\n",
       "Survived          0\n",
       "Cabin Letter    519\n",
       "dtype: int64"
      ]
     },
     "execution_count": 79,
     "metadata": {},
     "output_type": "execute_result"
    }
   ],
   "source": [
    "df.loc[missing_c1, 'Cabin Letter'] = np.random.choice(prob_c1.index, size=len(df[missing_c1]), p=prob_c1.values)\n",
    "df.isna().sum()"
   ]
  },
  {
   "cell_type": "code",
   "execution_count": 80,
   "id": "278cf9d2",
   "metadata": {
    "scrolled": true
   },
   "outputs": [
    {
     "data": {
      "text/plain": [
       "57     False\n",
       "717    False\n",
       "431    False\n",
       "633    False\n",
       "163    False\n",
       "       ...  \n",
       "369    False\n",
       "320    False\n",
       "527    False\n",
       "125    False\n",
       "265     True\n",
       "Length: 712, dtype: bool"
      ]
     },
     "execution_count": 80,
     "metadata": {},
     "output_type": "execute_result"
    }
   ],
   "source": [
    "missing_c2 = (df['Pclass'] == 2) & (df['Cabin Letter'].isna())\n",
    "missing_c2"
   ]
  },
  {
   "cell_type": "code",
   "execution_count": 81,
   "id": "0f9b6ffe",
   "metadata": {},
   "outputs": [
    {
     "data": {
      "text/plain": [
       "PassengerId       0\n",
       "Pclass            0\n",
       "Name              0\n",
       "Sex               0\n",
       "Age               0\n",
       "SibSp             0\n",
       "Parch             0\n",
       "Ticket            0\n",
       "Fare              0\n",
       "Cabin           554\n",
       "Embarked          0\n",
       "Survived          0\n",
       "Cabin Letter    383\n",
       "dtype: int64"
      ]
     },
     "execution_count": 81,
     "metadata": {},
     "output_type": "execute_result"
    }
   ],
   "source": [
    "df.loc[missing_c2, 'Cabin Letter'] = np.random.choice(prob_c2.index, size=len(df[missing_c2]), p=prob_c2.values)\n",
    "df.isna().sum()"
   ]
  },
  {
   "cell_type": "code",
   "execution_count": 82,
   "id": "45491a4c",
   "metadata": {},
   "outputs": [
    {
     "data": {
      "text/plain": [
       "57      True\n",
       "717    False\n",
       "431     True\n",
       "633    False\n",
       "163     True\n",
       "       ...  \n",
       "369    False\n",
       "320     True\n",
       "527    False\n",
       "125     True\n",
       "265    False\n",
       "Length: 712, dtype: bool"
      ]
     },
     "execution_count": 82,
     "metadata": {},
     "output_type": "execute_result"
    }
   ],
   "source": [
    "missing_c3 = (df['Pclass'] == 3) & (df['Cabin Letter'].isna())\n",
    "missing_c3"
   ]
  },
  {
   "cell_type": "code",
   "execution_count": 83,
   "id": "514508c4",
   "metadata": {},
   "outputs": [
    {
     "data": {
      "text/plain": [
       "PassengerId       0\n",
       "Pclass            0\n",
       "Name              0\n",
       "Sex               0\n",
       "Age               0\n",
       "SibSp             0\n",
       "Parch             0\n",
       "Ticket            0\n",
       "Fare              0\n",
       "Cabin           554\n",
       "Embarked          0\n",
       "Survived          0\n",
       "Cabin Letter      0\n",
       "dtype: int64"
      ]
     },
     "execution_count": 83,
     "metadata": {},
     "output_type": "execute_result"
    }
   ],
   "source": [
    "df.loc[missing_c3, 'Cabin Letter'] = np.random.choice(prob_c3.index, size=len(df[missing_c3]), p=prob_c3.values)\n",
    "df.isna().sum()"
   ]
  },
  {
   "cell_type": "markdown",
   "id": "eaa8e0ed",
   "metadata": {},
   "source": [
    "One-Hot encode cabin letters."
   ]
  },
  {
   "cell_type": "code",
   "execution_count": 84,
   "id": "4d66cfee",
   "metadata": {},
   "outputs": [
    {
     "data": {
      "text/html": [
       "<div>\n",
       "<style scoped>\n",
       "    .dataframe tbody tr th:only-of-type {\n",
       "        vertical-align: middle;\n",
       "    }\n",
       "\n",
       "    .dataframe tbody tr th {\n",
       "        vertical-align: top;\n",
       "    }\n",
       "\n",
       "    .dataframe thead th {\n",
       "        text-align: right;\n",
       "    }\n",
       "</style>\n",
       "<table border=\"1\" class=\"dataframe\">\n",
       "  <thead>\n",
       "    <tr style=\"text-align: right;\">\n",
       "      <th></th>\n",
       "      <th>A</th>\n",
       "      <th>B</th>\n",
       "      <th>C</th>\n",
       "      <th>D</th>\n",
       "      <th>E</th>\n",
       "      <th>F</th>\n",
       "      <th>G</th>\n",
       "      <th>T</th>\n",
       "    </tr>\n",
       "  </thead>\n",
       "  <tbody>\n",
       "    <tr>\n",
       "      <th>57</th>\n",
       "      <td>0</td>\n",
       "      <td>0</td>\n",
       "      <td>0</td>\n",
       "      <td>0</td>\n",
       "      <td>0</td>\n",
       "      <td>0</td>\n",
       "      <td>1</td>\n",
       "      <td>0</td>\n",
       "    </tr>\n",
       "    <tr>\n",
       "      <th>717</th>\n",
       "      <td>0</td>\n",
       "      <td>0</td>\n",
       "      <td>0</td>\n",
       "      <td>0</td>\n",
       "      <td>1</td>\n",
       "      <td>0</td>\n",
       "      <td>0</td>\n",
       "      <td>0</td>\n",
       "    </tr>\n",
       "    <tr>\n",
       "      <th>431</th>\n",
       "      <td>0</td>\n",
       "      <td>0</td>\n",
       "      <td>0</td>\n",
       "      <td>0</td>\n",
       "      <td>1</td>\n",
       "      <td>0</td>\n",
       "      <td>0</td>\n",
       "      <td>0</td>\n",
       "    </tr>\n",
       "    <tr>\n",
       "      <th>633</th>\n",
       "      <td>0</td>\n",
       "      <td>0</td>\n",
       "      <td>1</td>\n",
       "      <td>0</td>\n",
       "      <td>0</td>\n",
       "      <td>0</td>\n",
       "      <td>0</td>\n",
       "      <td>0</td>\n",
       "    </tr>\n",
       "    <tr>\n",
       "      <th>163</th>\n",
       "      <td>0</td>\n",
       "      <td>0</td>\n",
       "      <td>0</td>\n",
       "      <td>0</td>\n",
       "      <td>0</td>\n",
       "      <td>1</td>\n",
       "      <td>0</td>\n",
       "      <td>0</td>\n",
       "    </tr>\n",
       "    <tr>\n",
       "      <th>...</th>\n",
       "      <td>...</td>\n",
       "      <td>...</td>\n",
       "      <td>...</td>\n",
       "      <td>...</td>\n",
       "      <td>...</td>\n",
       "      <td>...</td>\n",
       "      <td>...</td>\n",
       "      <td>...</td>\n",
       "    </tr>\n",
       "    <tr>\n",
       "      <th>369</th>\n",
       "      <td>0</td>\n",
       "      <td>1</td>\n",
       "      <td>0</td>\n",
       "      <td>0</td>\n",
       "      <td>0</td>\n",
       "      <td>0</td>\n",
       "      <td>0</td>\n",
       "      <td>0</td>\n",
       "    </tr>\n",
       "    <tr>\n",
       "      <th>320</th>\n",
       "      <td>0</td>\n",
       "      <td>0</td>\n",
       "      <td>0</td>\n",
       "      <td>0</td>\n",
       "      <td>0</td>\n",
       "      <td>1</td>\n",
       "      <td>0</td>\n",
       "      <td>0</td>\n",
       "    </tr>\n",
       "    <tr>\n",
       "      <th>527</th>\n",
       "      <td>0</td>\n",
       "      <td>0</td>\n",
       "      <td>1</td>\n",
       "      <td>0</td>\n",
       "      <td>0</td>\n",
       "      <td>0</td>\n",
       "      <td>0</td>\n",
       "      <td>0</td>\n",
       "    </tr>\n",
       "    <tr>\n",
       "      <th>125</th>\n",
       "      <td>0</td>\n",
       "      <td>0</td>\n",
       "      <td>0</td>\n",
       "      <td>0</td>\n",
       "      <td>0</td>\n",
       "      <td>0</td>\n",
       "      <td>1</td>\n",
       "      <td>0</td>\n",
       "    </tr>\n",
       "    <tr>\n",
       "      <th>265</th>\n",
       "      <td>0</td>\n",
       "      <td>0</td>\n",
       "      <td>0</td>\n",
       "      <td>1</td>\n",
       "      <td>0</td>\n",
       "      <td>0</td>\n",
       "      <td>0</td>\n",
       "      <td>0</td>\n",
       "    </tr>\n",
       "  </tbody>\n",
       "</table>\n",
       "<p>712 rows × 8 columns</p>\n",
       "</div>"
      ],
      "text/plain": [
       "     A  B  C  D  E  F  G  T\n",
       "57   0  0  0  0  0  0  1  0\n",
       "717  0  0  0  0  1  0  0  0\n",
       "431  0  0  0  0  1  0  0  0\n",
       "633  0  0  1  0  0  0  0  0\n",
       "163  0  0  0  0  0  1  0  0\n",
       "..  .. .. .. .. .. .. .. ..\n",
       "369  0  1  0  0  0  0  0  0\n",
       "320  0  0  0  0  0  1  0  0\n",
       "527  0  0  1  0  0  0  0  0\n",
       "125  0  0  0  0  0  0  1  0\n",
       "265  0  0  0  1  0  0  0  0\n",
       "\n",
       "[712 rows x 8 columns]"
      ]
     },
     "execution_count": 84,
     "metadata": {},
     "output_type": "execute_result"
    }
   ],
   "source": [
    "pd.get_dummies(df['Cabin Letter'])"
   ]
  },
  {
   "cell_type": "code",
   "execution_count": 85,
   "id": "f9559847",
   "metadata": {},
   "outputs": [
    {
     "data": {
      "text/html": [
       "<div>\n",
       "<style scoped>\n",
       "    .dataframe tbody tr th:only-of-type {\n",
       "        vertical-align: middle;\n",
       "    }\n",
       "\n",
       "    .dataframe tbody tr th {\n",
       "        vertical-align: top;\n",
       "    }\n",
       "\n",
       "    .dataframe thead th {\n",
       "        text-align: right;\n",
       "    }\n",
       "</style>\n",
       "<table border=\"1\" class=\"dataframe\">\n",
       "  <thead>\n",
       "    <tr style=\"text-align: right;\">\n",
       "      <th></th>\n",
       "      <th>PassengerId</th>\n",
       "      <th>Survived</th>\n",
       "      <th>Pclass</th>\n",
       "      <th>Name</th>\n",
       "      <th>Sex</th>\n",
       "      <th>Age</th>\n",
       "      <th>SibSp</th>\n",
       "      <th>Parch</th>\n",
       "      <th>Ticket</th>\n",
       "      <th>Fare</th>\n",
       "      <th>...</th>\n",
       "      <th>child</th>\n",
       "      <th>adult</th>\n",
       "      <th>A</th>\n",
       "      <th>B</th>\n",
       "      <th>C</th>\n",
       "      <th>D</th>\n",
       "      <th>E</th>\n",
       "      <th>F</th>\n",
       "      <th>G</th>\n",
       "      <th>T</th>\n",
       "    </tr>\n",
       "  </thead>\n",
       "  <tbody>\n",
       "    <tr>\n",
       "      <th>0</th>\n",
       "      <td>1</td>\n",
       "      <td>0</td>\n",
       "      <td>3</td>\n",
       "      <td>Braund, Mr. Owen Harris</td>\n",
       "      <td>male</td>\n",
       "      <td>22.0</td>\n",
       "      <td>1</td>\n",
       "      <td>0</td>\n",
       "      <td>A/5 21171</td>\n",
       "      <td>7.250</td>\n",
       "      <td>...</td>\n",
       "      <td>0</td>\n",
       "      <td>1</td>\n",
       "      <td>0</td>\n",
       "      <td>0</td>\n",
       "      <td>0</td>\n",
       "      <td>0</td>\n",
       "      <td>0</td>\n",
       "      <td>0</td>\n",
       "      <td>1</td>\n",
       "      <td>0</td>\n",
       "    </tr>\n",
       "    <tr>\n",
       "      <th>2</th>\n",
       "      <td>3</td>\n",
       "      <td>1</td>\n",
       "      <td>3</td>\n",
       "      <td>Heikkinen, Miss. Laina</td>\n",
       "      <td>female</td>\n",
       "      <td>26.0</td>\n",
       "      <td>0</td>\n",
       "      <td>0</td>\n",
       "      <td>STON/O2. 3101282</td>\n",
       "      <td>7.925</td>\n",
       "      <td>...</td>\n",
       "      <td>0</td>\n",
       "      <td>1</td>\n",
       "      <td>0</td>\n",
       "      <td>0</td>\n",
       "      <td>0</td>\n",
       "      <td>0</td>\n",
       "      <td>1</td>\n",
       "      <td>0</td>\n",
       "      <td>0</td>\n",
       "      <td>0</td>\n",
       "    </tr>\n",
       "  </tbody>\n",
       "</table>\n",
       "<p>2 rows × 24 columns</p>\n",
       "</div>"
      ],
      "text/plain": [
       "   PassengerId  Survived  Pclass                     Name     Sex   Age  \\\n",
       "0            1         0       3  Braund, Mr. Owen Harris    male  22.0   \n",
       "2            3         1       3   Heikkinen, Miss. Laina  female  26.0   \n",
       "\n",
       "   SibSp  Parch            Ticket   Fare  ... child adult  A  B  C  D  E  F  \\\n",
       "0      1      0         A/5 21171  7.250  ...     0     1  0  0  0  0  0  0   \n",
       "2      0      0  STON/O2. 3101282  7.925  ...     0     1  0  0  0  0  1  0   \n",
       "\n",
       "   G  T  \n",
       "0  1  0  \n",
       "2  0  0  \n",
       "\n",
       "[2 rows x 24 columns]"
      ]
     },
     "execution_count": 85,
     "metadata": {},
     "output_type": "execute_result"
    }
   ],
   "source": [
    "full_data = full_data.merge(pd.get_dummies(df['Cabin Letter']), left_index=True, right_index=True)\n",
    "full_data.head(2)"
   ]
  },
  {
   "cell_type": "code",
   "execution_count": 86,
   "id": "0a3a8295",
   "metadata": {},
   "outputs": [
    {
     "data": {
      "text/plain": [
       "712"
      ]
     },
     "execution_count": 86,
     "metadata": {},
     "output_type": "execute_result"
    }
   ],
   "source": [
    "alphabet = full_data[['A', 'B', 'C', 'D', 'E', 'F','G','T']]\n",
    "alphabet.value_counts().sum()"
   ]
  },
  {
   "cell_type": "markdown",
   "id": "fd7b9412",
   "metadata": {},
   "source": [
    "### Logistic regression incl. cabin letters"
   ]
  },
  {
   "cell_type": "code",
   "execution_count": 126,
   "id": "f8518c92",
   "metadata": {},
   "outputs": [],
   "source": [
    "X = full_data[['Pclass', 'male', 'A', 'B', 'C', 'D', 'E', 'F', 'G', 'T']]\n",
    "y = full_data['Survived']"
   ]
  },
  {
   "cell_type": "code",
   "execution_count": 127,
   "id": "1e09a4be",
   "metadata": {},
   "outputs": [],
   "source": [
    "X_train, X_test, y_train, y_test = train_test_split(X, y, test_size=0.2, random_state=10)"
   ]
  },
  {
   "cell_type": "code",
   "execution_count": 139,
   "id": "dbcd61b2",
   "metadata": {},
   "outputs": [
    {
     "data": {
      "text/plain": [
       "0.7768014059753954"
      ]
     },
     "execution_count": 139,
     "metadata": {},
     "output_type": "execute_result"
    }
   ],
   "source": [
    "m_reg = LogisticRegression()\n",
    "m_reg.fit(X_train, y_train)\n",
    "m_reg.score(X_train, y_train)"
   ]
  },
  {
   "cell_type": "code",
   "execution_count": 140,
   "id": "a20dbc36",
   "metadata": {},
   "outputs": [
    {
     "data": {
      "text/plain": [
       "0.7832167832167832"
      ]
     },
     "execution_count": 140,
     "metadata": {},
     "output_type": "execute_result"
    }
   ],
   "source": [
    "m_reg.score(X_test, y_test)"
   ]
  },
  {
   "cell_type": "code",
   "execution_count": 141,
   "id": "3243eabe",
   "metadata": {},
   "outputs": [
    {
     "data": {
      "text/plain": [
       "(array([3.33041089]),\n",
       " array([[-1.08571207, -2.42518342, -0.19119787, -0.06328059, -0.3923599 ,\n",
       "         -0.00334508,  0.06922402,  0.15796156,  0.78990183, -0.36638417]]))"
      ]
     },
     "execution_count": 141,
     "metadata": {},
     "output_type": "execute_result"
    }
   ],
   "source": [
    "m_reg.intercept_, m_reg.coef_"
   ]
  },
  {
   "cell_type": "code",
   "execution_count": 142,
   "id": "29fee992",
   "metadata": {},
   "outputs": [
    {
     "data": {
      "text/plain": [
       "array([[0.83, 0.17],\n",
       "       [0.46, 0.54],\n",
       "       [0.14, 0.86],\n",
       "       ...,\n",
       "       [0.1 , 0.9 ],\n",
       "       [0.64, 0.36],\n",
       "       [0.91, 0.09]])"
      ]
     },
     "execution_count": 142,
     "metadata": {},
     "output_type": "execute_result"
    }
   ],
   "source": [
    "m_reg.predict_proba(X).round(2)"
   ]
  },
  {
   "cell_type": "code",
   "execution_count": 143,
   "id": "b8ddfcf9",
   "metadata": {},
   "outputs": [],
   "source": [
    "probabilities = pd.DataFrame(m_reg.predict_proba(X_train).round(2))\n",
    "#probabilities"
   ]
  },
  {
   "cell_type": "code",
   "execution_count": 144,
   "id": "1dc3731f",
   "metadata": {
    "scrolled": true
   },
   "outputs": [],
   "source": [
    "probabilities['new_pred'] = probabilities[1] >= 0.60 \n",
    "probabilities['new_pred'] = probabilities['new_pred'].astype(int)\n",
    "#probabilities"
   ]
  },
  {
   "cell_type": "code",
   "execution_count": 145,
   "id": "cf52dec4",
   "metadata": {},
   "outputs": [
    {
     "data": {
      "text/plain": [
       "0    420\n",
       "1    149\n",
       "Name: new_pred, dtype: int64"
      ]
     },
     "execution_count": 145,
     "metadata": {},
     "output_type": "execute_result"
    }
   ],
   "source": [
    "probabilities['new_pred'].value_counts()"
   ]
  },
  {
   "cell_type": "code",
   "execution_count": 146,
   "id": "69580494",
   "metadata": {
    "scrolled": true
   },
   "outputs": [
    {
     "data": {
      "text/plain": [
       "0.8927943760984183"
      ]
     },
     "execution_count": 146,
     "metadata": {},
     "output_type": "execute_result"
    }
   ],
   "source": [
    "m_reg.score(X_train, probabilities['new_pred'])"
   ]
  },
  {
   "cell_type": "markdown",
   "id": "94748313",
   "metadata": {},
   "source": [
    "### Decision Tree model"
   ]
  },
  {
   "cell_type": "code",
   "execution_count": 97,
   "id": "6e0978e0",
   "metadata": {},
   "outputs": [],
   "source": [
    "X = full_data[['Pclass', 'male', 'A', 'B', 'C', 'D', 'E', 'F', 'G', 'T']] \n",
    "y = full_data['Survived']"
   ]
  },
  {
   "cell_type": "code",
   "execution_count": 98,
   "id": "65a60c41",
   "metadata": {},
   "outputs": [],
   "source": [
    "X_train, X_test, y_train, y_test = train_test_split(X, y, test_size=0.2, random_state=10)"
   ]
  },
  {
   "cell_type": "code",
   "execution_count": 99,
   "id": "b119a5ce",
   "metadata": {},
   "outputs": [],
   "source": [
    "m_dt = DecisionTreeClassifier(max_depth=1)"
   ]
  },
  {
   "cell_type": "code",
   "execution_count": 100,
   "id": "8c600a6a",
   "metadata": {
    "scrolled": true
   },
   "outputs": [
    {
     "data": {
      "text/plain": [
       "DecisionTreeClassifier(max_depth=1)"
      ]
     },
     "execution_count": 100,
     "metadata": {},
     "output_type": "execute_result"
    }
   ],
   "source": [
    "m_dt.fit(X_train, y_train)"
   ]
  },
  {
   "cell_type": "code",
   "execution_count": 101,
   "id": "554aac45",
   "metadata": {},
   "outputs": [],
   "source": [
    "y_train_pred = m_dt.predict(X_train)\n",
    "#y_train_pred"
   ]
  },
  {
   "cell_type": "code",
   "execution_count": 102,
   "id": "55270bec",
   "metadata": {},
   "outputs": [
    {
     "data": {
      "text/plain": [
       "0.7768014059753954"
      ]
     },
     "execution_count": 102,
     "metadata": {},
     "output_type": "execute_result"
    }
   ],
   "source": [
    "m_dt.score(X_train, y_train)"
   ]
  },
  {
   "cell_type": "code",
   "execution_count": 103,
   "id": "9a1f106f",
   "metadata": {},
   "outputs": [
    {
     "data": {
      "text/plain": [
       "0.7768014059753954"
      ]
     },
     "execution_count": 103,
     "metadata": {},
     "output_type": "execute_result"
    }
   ],
   "source": [
    "accuracy_score(y_train_pred, y_train)"
   ]
  },
  {
   "cell_type": "code",
   "execution_count": 104,
   "id": "67952a14",
   "metadata": {},
   "outputs": [
    {
     "data": {
      "text/plain": [
       "[Text(167.4, 163.07999999999998, 'male <= 0.5\\ngini = 0.481\\nsamples = 569\\nvalue = [340, 229]\\nclass = Died'),\n",
       " Text(83.7, 54.360000000000014, 'gini = 0.382\\nsamples = 210\\nvalue = [54, 156]\\nclass = Survived'),\n",
       " Text(251.10000000000002, 54.360000000000014, 'gini = 0.324\\nsamples = 359\\nvalue = [286, 73]\\nclass = Died')]"
      ]
     },
     "execution_count": 104,
     "metadata": {},
     "output_type": "execute_result"
    },
    {
     "data": {
      "image/png": "[encoded data removed]",
      "text/plain": [
       "<Figure size 432x288 with 1 Axes>"
      ]
     },
     "metadata": {
      "needs_background": "light"
     },
     "output_type": "display_data"
    }
   ],
   "source": [
    "plt.figure()\n",
    "plot_tree(m_dt, filled=True, feature_names=['Pclass', 'male',  'A', 'B', 'C', 'D', 'E', 'F','G','T'], class_names=['Died', 'Survived',])"
   ]
  },
  {
   "cell_type": "markdown",
   "id": "221d8611",
   "metadata": {},
   "source": [
    "### Random Forest model"
   ]
  },
  {
   "cell_type": "code",
   "execution_count": 118,
   "id": "13e047dd",
   "metadata": {},
   "outputs": [],
   "source": [
    "X = full_data[['Pclass', 'male']] \n",
    "y = full_data['Survived']"
   ]
  },
  {
   "cell_type": "code",
   "execution_count": 119,
   "id": "ee48cda9",
   "metadata": {},
   "outputs": [],
   "source": [
    "X_train, X_test, y_train, y_test = train_test_split(X, y, test_size=0.2, random_state=10)"
   ]
  },
  {
   "cell_type": "code",
   "execution_count": 120,
   "id": "ea31d9fc",
   "metadata": {},
   "outputs": [],
   "source": [
    "m_rf = RandomForestClassifier(n_estimators=100, max_depth=1, max_features=1)"
   ]
  },
  {
   "cell_type": "code",
   "execution_count": 121,
   "id": "31480a80",
   "metadata": {},
   "outputs": [
    {
     "data": {
      "text/plain": [
       "RandomForestClassifier(max_depth=1, max_features=1)"
      ]
     },
     "execution_count": 121,
     "metadata": {},
     "output_type": "execute_result"
    }
   ],
   "source": [
    "m_rf.fit(X_train, y_train)"
   ]
  },
  {
   "cell_type": "code",
   "execution_count": 122,
   "id": "82eb7642",
   "metadata": {},
   "outputs": [
    {
     "data": {
      "text/plain": [
       "0.773286467486819"
      ]
     },
     "execution_count": 122,
     "metadata": {},
     "output_type": "execute_result"
    }
   ],
   "source": [
    "m_rf.score(X_train, y_train)"
   ]
  },
  {
   "cell_type": "code",
   "execution_count": 123,
   "id": "258196b6",
   "metadata": {},
   "outputs": [
    {
     "data": {
      "text/plain": [
       "0.7902097902097902"
      ]
     },
     "execution_count": 123,
     "metadata": {},
     "output_type": "execute_result"
    }
   ],
   "source": [
    "m_rf.score(X_test, y_test)"
   ]
  },
  {
   "cell_type": "markdown",
   "id": "a3d28658",
   "metadata": {},
   "source": [
    "\n",
    "\n",
    "\n",
    "### Work in progress:\n",
    "### One-Hot Encoding age bins using Column Transformer:"
   ]
  },
  {
   "cell_type": "markdown",
   "id": "294d47e3",
   "metadata": {},
   "source": [
    "#full_data_original = full_data.drop(['male', 'A', 'B', 'C', 'D', 'E', 'F', 'G', 'T'], axis=1)\n",
    "#full_data_original.head(2)"
   ]
  },
  {
   "cell_type": "markdown",
   "id": "b93f9e49",
   "metadata": {},
   "source": [
    "categorical_ohe = ['child_adult_old']\n",
    "other = ['Age', 'Fare', 'Name', 'Parch', 'SibSp', 'Ticket', 'PassengerId', 'Cabin', 'Pclass', 'Sex', 'Embarked']"
   ]
  },
  {
   "cell_type": "markdown",
   "id": "cf8223f2",
   "metadata": {},
   "source": [
    "trans = ColumnTransformer([\n",
    "    ('ohe', OneHotEncoder(sparse=False, handle_unknown='error', drop='first'), categorical_ohe),\n",
    "    ('ignore', 'passthrough', other)\n",
    "])"
   ]
  },
  {
   "cell_type": "markdown",
   "id": "91e20a08",
   "metadata": {},
   "source": [
    "df_trans = trans.fit_transform(df)"
   ]
  },
  {
   "cell_type": "markdown",
   "id": "a0b0ee6e",
   "metadata": {},
   "source": [
    "df_trans"
   ]
  },
  {
   "cell_type": "markdown",
   "id": "32b1a5c7",
   "metadata": {},
   "source": [
    "### Pipeline - imputing and scaling data"
   ]
  },
  {
   "cell_type": "markdown",
   "id": "80077830",
   "metadata": {},
   "source": [
    "impute_and_scale = make_pipeline(SimpleImputer(), MinMaxScaler())"
   ]
  },
  {
   "cell_type": "markdown",
   "id": "f8b681eb",
   "metadata": {},
   "source": [
    "\n",
    "...\n",
    "('impute and scale', impute_and_scale, ['Age', 'Fare']),\n",
    "..."
   ]
  },
  {
   "cell_type": "markdown",
   "id": "4d968fb8",
   "metadata": {},
   "source": [
    "### Calculate train and validation accuracy\n"
   ]
  },
  {
   "cell_type": "markdown",
   "id": "af1da1bf",
   "metadata": {},
   "source": [
    "confusion_matrix(y, y_pred)"
   ]
  },
  {
   "cell_type": "markdown",
   "id": "13c47ffd",
   "metadata": {},
   "source": [
    "ConfusionMatrixDisplay.from_predictions(y, ypred, normalize=None)"
   ]
  },
  {
   "cell_type": "markdown",
   "id": "4c59aac0",
   "metadata": {},
   "source": [
    "### Cabin Numbers feature engineering"
   ]
  },
  {
   "cell_type": "markdown",
   "id": "f487ac17",
   "metadata": {},
   "source": [
    "- Determine pool of available/unused cabin numbers per letter\n",
    "- Append 'Cabin Letter' with random value from cabin numbers pool\n",
    "\n",
    "Classify cabins based on whether they were on the port or starboard side of the ship. Research shows that even-numbered cabins were on the port side and odd-numbered on the starboard side. This is relevant because the officers letting people on lifeboats had different policies on either side. The one on the port side allowed NO MEN on the lifeboats, whereas the one of the starboard side allowed SOME MEN on the lifeboats but prioritized women and children."
   ]
  },
  {
   "cell_type": "markdown",
   "id": "135516a9",
   "metadata": {},
   "source": [
    "Append Cabin Letters with Cabin Numbers according to remaining/unused cabin numbers in dataset for that letter."
   ]
  },
  {
   "cell_type": "markdown",
   "id": "3f2b1c2f",
   "metadata": {},
   "source": [
    "df.head(3)"
   ]
  },
  {
   "cell_type": "markdown",
   "id": "585243c4",
   "metadata": {},
   "source": [
    "### Extract only numbers from Cabin column and put into new Cabin Number column where \\d+ refers to regex for all digits (not just first digit without '+')\n",
    "df['Cabin Number'] = df['Cabin'].str.extract('(\\d+)')\n",
    "df['Cabin Number'] = df['Cabin Number'].dropna().astype(int)\n",
    "df['Cabin Number'].unique()"
   ]
  },
  {
   "cell_type": "markdown",
   "id": "754ac626",
   "metadata": {},
   "source": [
    "### Convert Cabin Number values into integers\n",
    "#cabin_nums = df.loc[df['Cabin Number'].notna()]\n",
    "#cabin_nums['Cabin Number'] = cabin_nums['Cabin Number'].astype(int)\n",
    "#cabin_nums['Cabin Number'].unique()"
   ]
  },
  {
   "cell_type": "markdown",
   "id": "98f7fd42",
   "metadata": {},
   "source": [
    "#df['Cabin Number'] = df.loc[df['Cabin Number'].notna()].astype(int)"
   ]
  },
  {
   "cell_type": "markdown",
   "id": "e82f1e28",
   "metadata": {},
   "source": [
    "cabin_evens = df[df['Cabin Number'] % 2 == 0]\n",
    "cabin_evens"
   ]
  },
  {
   "cell_type": "markdown",
   "id": "b67c2a46",
   "metadata": {},
   "source": [
    "cabin_odds = df[df['Cabin Number'] % 2 != 0]\n",
    "cabin_odds"
   ]
  },
  {
   "cell_type": "markdown",
   "id": "0f12dc91",
   "metadata": {},
   "source": [
    "prob_even = df['Cabin Number'] % 2\n",
    "prob_even.value_counts(normalize=True)"
   ]
  },
  {
   "cell_type": "markdown",
   "id": "40ff8884",
   "metadata": {},
   "source": [
    "df.loc[missing_c3, 'Cabin Letter'] = np.random.choice(prob_c3.index, size=len(df[missing_c3]), p=prob_c3.values)\n",
    "df.isna().sum()"
   ]
  },
  {
   "cell_type": "markdown",
   "id": "c4ee1350",
   "metadata": {},
   "source": [
    "df.loc[df.Survived==1];"
   ]
  },
  {
   "cell_type": "markdown",
   "id": "e6f9dc55",
   "metadata": {},
   "source": [
    "g_pclass = df.groupby('Pclass')\n",
    "g_sex = df.groupby('Sex')\n",
    "g_survived = df.groupby('Survived') "
   ]
  },
  {
   "cell_type": "markdown",
   "id": "5aa1fc91",
   "metadata": {},
   "source": [
    "survived_f = (df['Sex'] == 'female') & (df['Survived'] == 1)\n",
    "survived_f"
   ]
  },
  {
   "cell_type": "markdown",
   "id": "67f9123e",
   "metadata": {},
   "source": [
    "died_count = df.loc[df['Survived'] == 0].count()\n",
    "died_count"
   ]
  },
  {
   "cell_type": "markdown",
   "id": "ba0a39b8",
   "metadata": {},
   "source": [
    "#survival_counts = pd.DataFrame([[df.loc[df['Pclass'] == 1].count(df['Survived']), df.loc[df['Pclass'] == 2].count(df['Survived']), df.loc[df['Pclass'] == 3].count(df['Survived']), df.loc[df['Sex'] == 'female'].count(df['Survived']), df.loc[df['Sex'] == 'male'].count(df['Survived'])]], \n",
    "                               #columns=['class_1', 'class_2', 'class_3', 'female', 'male'], \n",
    "                               #index=None)\n",
    "##survival_counts"
   ]
  },
  {
   "cell_type": "markdown",
   "id": "155d0f1a",
   "metadata": {},
   "source": [
    "df.groupby('Survived').nunique()\n",
    "### See survival counts per column"
   ]
  },
  {
   "cell_type": "markdown",
   "id": "82c89d5c",
   "metadata": {},
   "source": [
    "df.groupby('Pclass')['Survived'].value_counts()"
   ]
  },
  {
   "cell_type": "markdown",
   "id": "c1b57a77",
   "metadata": {},
   "source": [
    "df.groupby('Sex')['Survived'].value_counts()"
   ]
  },
  {
   "cell_type": "code",
   "execution_count": null,
   "id": "8c771d71",
   "metadata": {},
   "outputs": [],
   "source": []
  }
 ],
 "metadata": {
  "kernelspec": {
   "display_name": "Python 3 (ipykernel)",
   "language": "python",
   "name": "python3"
  },
  "language_info": {
   "codemirror_mode": {
    "name": "ipython",
    "version": 3
   },
   "file_extension": ".py",
   "mimetype": "text/x-python",
   "name": "python",
   "nbconvert_exporter": "python",
   "pygments_lexer": "ipython3",
   "version": "3.9.7"
  }
 },
 "nbformat": 4,
 "nbformat_minor": 5
}
